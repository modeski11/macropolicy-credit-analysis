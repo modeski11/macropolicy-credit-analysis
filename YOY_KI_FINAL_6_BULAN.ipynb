{
  "nbformat": 4,
  "nbformat_minor": 0,
  "metadata": {
    "colab": {
      "provenance": []
    },
    "kernelspec": {
      "name": "python3",
      "display_name": "Python 3"
    },
    "language_info": {
      "name": "python"
    },
    "widgets": {
      "application/vnd.jupyter.widget-state+json": {
        "e08f3271f08c420fbc292360cd7dd1ed": {
          "model_module": "@jupyter-widgets/controls",
          "model_name": "HBoxModel",
          "model_module_version": "1.5.0",
          "state": {
            "_dom_classes": [],
            "_model_module": "@jupyter-widgets/controls",
            "_model_module_version": "1.5.0",
            "_model_name": "HBoxModel",
            "_view_count": null,
            "_view_module": "@jupyter-widgets/controls",
            "_view_module_version": "1.5.0",
            "_view_name": "HBoxView",
            "box_style": "",
            "children": [
              "IPY_MODEL_b26fed9f4057417c91b5ddf451f1cc96",
              "IPY_MODEL_528bee7d5fcf4e11b7a4996e35868927",
              "IPY_MODEL_0e36172a6d7e415ca8746c7524a81ad7"
            ],
            "layout": "IPY_MODEL_2baf20141c204c1faa6fba756d569c31"
          }
        },
        "b26fed9f4057417c91b5ddf451f1cc96": {
          "model_module": "@jupyter-widgets/controls",
          "model_name": "HTMLModel",
          "model_module_version": "1.5.0",
          "state": {
            "_dom_classes": [],
            "_model_module": "@jupyter-widgets/controls",
            "_model_module_version": "1.5.0",
            "_model_name": "HTMLModel",
            "_view_count": null,
            "_view_module": "@jupyter-widgets/controls",
            "_view_module_version": "1.5.0",
            "_view_name": "HTMLView",
            "description": "",
            "description_tooltip": null,
            "layout": "IPY_MODEL_fbc442992ca24698834ef289eee6880e",
            "placeholder": "​",
            "style": "IPY_MODEL_daae8ac3d734475bb7c357a75958184b",
            "value": "100%"
          }
        },
        "528bee7d5fcf4e11b7a4996e35868927": {
          "model_module": "@jupyter-widgets/controls",
          "model_name": "FloatProgressModel",
          "model_module_version": "1.5.0",
          "state": {
            "_dom_classes": [],
            "_model_module": "@jupyter-widgets/controls",
            "_model_module_version": "1.5.0",
            "_model_name": "FloatProgressModel",
            "_view_count": null,
            "_view_module": "@jupyter-widgets/controls",
            "_view_module_version": "1.5.0",
            "_view_name": "ProgressView",
            "bar_style": "success",
            "description": "",
            "description_tooltip": null,
            "layout": "IPY_MODEL_a7da80a2334c42db9514f6dc038fdf6a",
            "max": 26,
            "min": 0,
            "orientation": "horizontal",
            "style": "IPY_MODEL_1a2f3ab5f26748e3b353ef4aba915ce1",
            "value": 26
          }
        },
        "0e36172a6d7e415ca8746c7524a81ad7": {
          "model_module": "@jupyter-widgets/controls",
          "model_name": "HTMLModel",
          "model_module_version": "1.5.0",
          "state": {
            "_dom_classes": [],
            "_model_module": "@jupyter-widgets/controls",
            "_model_module_version": "1.5.0",
            "_model_name": "HTMLModel",
            "_view_count": null,
            "_view_module": "@jupyter-widgets/controls",
            "_view_module_version": "1.5.0",
            "_view_name": "HTMLView",
            "description": "",
            "description_tooltip": null,
            "layout": "IPY_MODEL_f0f65c9ca1c3491786252875b9cc5cd4",
            "placeholder": "​",
            "style": "IPY_MODEL_6d1a1d951d6046148b314353ff6c97a3",
            "value": " 26/26 [01:31&lt;00:00,  1.05s/it]"
          }
        },
        "2baf20141c204c1faa6fba756d569c31": {
          "model_module": "@jupyter-widgets/base",
          "model_name": "LayoutModel",
          "model_module_version": "1.2.0",
          "state": {
            "_model_module": "@jupyter-widgets/base",
            "_model_module_version": "1.2.0",
            "_model_name": "LayoutModel",
            "_view_count": null,
            "_view_module": "@jupyter-widgets/base",
            "_view_module_version": "1.2.0",
            "_view_name": "LayoutView",
            "align_content": null,
            "align_items": null,
            "align_self": null,
            "border": null,
            "bottom": null,
            "display": null,
            "flex": null,
            "flex_flow": null,
            "grid_area": null,
            "grid_auto_columns": null,
            "grid_auto_flow": null,
            "grid_auto_rows": null,
            "grid_column": null,
            "grid_gap": null,
            "grid_row": null,
            "grid_template_areas": null,
            "grid_template_columns": null,
            "grid_template_rows": null,
            "height": null,
            "justify_content": null,
            "justify_items": null,
            "left": null,
            "margin": null,
            "max_height": null,
            "max_width": null,
            "min_height": null,
            "min_width": null,
            "object_fit": null,
            "object_position": null,
            "order": null,
            "overflow": null,
            "overflow_x": null,
            "overflow_y": null,
            "padding": null,
            "right": null,
            "top": null,
            "visibility": null,
            "width": null
          }
        },
        "fbc442992ca24698834ef289eee6880e": {
          "model_module": "@jupyter-widgets/base",
          "model_name": "LayoutModel",
          "model_module_version": "1.2.0",
          "state": {
            "_model_module": "@jupyter-widgets/base",
            "_model_module_version": "1.2.0",
            "_model_name": "LayoutModel",
            "_view_count": null,
            "_view_module": "@jupyter-widgets/base",
            "_view_module_version": "1.2.0",
            "_view_name": "LayoutView",
            "align_content": null,
            "align_items": null,
            "align_self": null,
            "border": null,
            "bottom": null,
            "display": null,
            "flex": null,
            "flex_flow": null,
            "grid_area": null,
            "grid_auto_columns": null,
            "grid_auto_flow": null,
            "grid_auto_rows": null,
            "grid_column": null,
            "grid_gap": null,
            "grid_row": null,
            "grid_template_areas": null,
            "grid_template_columns": null,
            "grid_template_rows": null,
            "height": null,
            "justify_content": null,
            "justify_items": null,
            "left": null,
            "margin": null,
            "max_height": null,
            "max_width": null,
            "min_height": null,
            "min_width": null,
            "object_fit": null,
            "object_position": null,
            "order": null,
            "overflow": null,
            "overflow_x": null,
            "overflow_y": null,
            "padding": null,
            "right": null,
            "top": null,
            "visibility": null,
            "width": null
          }
        },
        "daae8ac3d734475bb7c357a75958184b": {
          "model_module": "@jupyter-widgets/controls",
          "model_name": "DescriptionStyleModel",
          "model_module_version": "1.5.0",
          "state": {
            "_model_module": "@jupyter-widgets/controls",
            "_model_module_version": "1.5.0",
            "_model_name": "DescriptionStyleModel",
            "_view_count": null,
            "_view_module": "@jupyter-widgets/base",
            "_view_module_version": "1.2.0",
            "_view_name": "StyleView",
            "description_width": ""
          }
        },
        "a7da80a2334c42db9514f6dc038fdf6a": {
          "model_module": "@jupyter-widgets/base",
          "model_name": "LayoutModel",
          "model_module_version": "1.2.0",
          "state": {
            "_model_module": "@jupyter-widgets/base",
            "_model_module_version": "1.2.0",
            "_model_name": "LayoutModel",
            "_view_count": null,
            "_view_module": "@jupyter-widgets/base",
            "_view_module_version": "1.2.0",
            "_view_name": "LayoutView",
            "align_content": null,
            "align_items": null,
            "align_self": null,
            "border": null,
            "bottom": null,
            "display": null,
            "flex": null,
            "flex_flow": null,
            "grid_area": null,
            "grid_auto_columns": null,
            "grid_auto_flow": null,
            "grid_auto_rows": null,
            "grid_column": null,
            "grid_gap": null,
            "grid_row": null,
            "grid_template_areas": null,
            "grid_template_columns": null,
            "grid_template_rows": null,
            "height": null,
            "justify_content": null,
            "justify_items": null,
            "left": null,
            "margin": null,
            "max_height": null,
            "max_width": null,
            "min_height": null,
            "min_width": null,
            "object_fit": null,
            "object_position": null,
            "order": null,
            "overflow": null,
            "overflow_x": null,
            "overflow_y": null,
            "padding": null,
            "right": null,
            "top": null,
            "visibility": null,
            "width": null
          }
        },
        "1a2f3ab5f26748e3b353ef4aba915ce1": {
          "model_module": "@jupyter-widgets/controls",
          "model_name": "ProgressStyleModel",
          "model_module_version": "1.5.0",
          "state": {
            "_model_module": "@jupyter-widgets/controls",
            "_model_module_version": "1.5.0",
            "_model_name": "ProgressStyleModel",
            "_view_count": null,
            "_view_module": "@jupyter-widgets/base",
            "_view_module_version": "1.2.0",
            "_view_name": "StyleView",
            "bar_color": null,
            "description_width": ""
          }
        },
        "f0f65c9ca1c3491786252875b9cc5cd4": {
          "model_module": "@jupyter-widgets/base",
          "model_name": "LayoutModel",
          "model_module_version": "1.2.0",
          "state": {
            "_model_module": "@jupyter-widgets/base",
            "_model_module_version": "1.2.0",
            "_model_name": "LayoutModel",
            "_view_count": null,
            "_view_module": "@jupyter-widgets/base",
            "_view_module_version": "1.2.0",
            "_view_name": "LayoutView",
            "align_content": null,
            "align_items": null,
            "align_self": null,
            "border": null,
            "bottom": null,
            "display": null,
            "flex": null,
            "flex_flow": null,
            "grid_area": null,
            "grid_auto_columns": null,
            "grid_auto_flow": null,
            "grid_auto_rows": null,
            "grid_column": null,
            "grid_gap": null,
            "grid_row": null,
            "grid_template_areas": null,
            "grid_template_columns": null,
            "grid_template_rows": null,
            "height": null,
            "justify_content": null,
            "justify_items": null,
            "left": null,
            "margin": null,
            "max_height": null,
            "max_width": null,
            "min_height": null,
            "min_width": null,
            "object_fit": null,
            "object_position": null,
            "order": null,
            "overflow": null,
            "overflow_x": null,
            "overflow_y": null,
            "padding": null,
            "right": null,
            "top": null,
            "visibility": null,
            "width": null
          }
        },
        "6d1a1d951d6046148b314353ff6c97a3": {
          "model_module": "@jupyter-widgets/controls",
          "model_name": "DescriptionStyleModel",
          "model_module_version": "1.5.0",
          "state": {
            "_model_module": "@jupyter-widgets/controls",
            "_model_module_version": "1.5.0",
            "_model_name": "DescriptionStyleModel",
            "_view_count": null,
            "_view_module": "@jupyter-widgets/base",
            "_view_module_version": "1.2.0",
            "_view_name": "StyleView",
            "description_width": ""
          }
        }
      }
    }
  },
  "cells": [
    {
      "cell_type": "code",
      "execution_count": null,
      "metadata": {
        "colab": {
          "base_uri": "https://localhost:8080/"
        },
        "id": "QSUotCco-EVh",
        "outputId": "9e62b85f-25cf-4407-c9dc-563d664af7a8"
      },
      "outputs": [
        {
          "output_type": "stream",
          "name": "stdout",
          "text": [
            "Mounted at /content/drive\n"
          ]
        }
      ],
      "source": [
        "from google.colab import drive\n",
        "drive.mount('/content/drive')"
      ]
    },
    {
      "cell_type": "code",
      "source": [
        "!pip install scikit-optimize"
      ],
      "metadata": {
        "colab": {
          "base_uri": "https://localhost:8080/"
        },
        "id": "VqsZmh0OPXhb",
        "outputId": "adedef88-cbef-4bcd-8eec-b8192fbe4a74"
      },
      "execution_count": null,
      "outputs": [
        {
          "output_type": "stream",
          "name": "stdout",
          "text": [
            "Collecting scikit-optimize\n",
            "  Downloading scikit_optimize-0.10.2-py2.py3-none-any.whl (107 kB)\n",
            "\u001b[2K     \u001b[90m━━━━━━━━━━━━━━━━━━━━━━━━━━━━━━━━━━━━━━━━\u001b[0m \u001b[32m107.8/107.8 kB\u001b[0m \u001b[31m1.1 MB/s\u001b[0m eta \u001b[36m0:00:00\u001b[0m\n",
            "\u001b[?25hRequirement already satisfied: joblib>=0.11 in /usr/local/lib/python3.10/dist-packages (from scikit-optimize) (1.4.2)\n",
            "Collecting pyaml>=16.9 (from scikit-optimize)\n",
            "  Downloading pyaml-24.4.0-py3-none-any.whl (24 kB)\n",
            "Requirement already satisfied: numpy>=1.20.3 in /usr/local/lib/python3.10/dist-packages (from scikit-optimize) (1.25.2)\n",
            "Requirement already satisfied: scipy>=1.1.0 in /usr/local/lib/python3.10/dist-packages (from scikit-optimize) (1.11.4)\n",
            "Requirement already satisfied: scikit-learn>=1.0.0 in /usr/local/lib/python3.10/dist-packages (from scikit-optimize) (1.2.2)\n",
            "Requirement already satisfied: packaging>=21.3 in /usr/local/lib/python3.10/dist-packages (from scikit-optimize) (24.1)\n",
            "Requirement already satisfied: PyYAML in /usr/local/lib/python3.10/dist-packages (from pyaml>=16.9->scikit-optimize) (6.0.1)\n",
            "Requirement already satisfied: threadpoolctl>=2.0.0 in /usr/local/lib/python3.10/dist-packages (from scikit-learn>=1.0.0->scikit-optimize) (3.5.0)\n",
            "Installing collected packages: pyaml, scikit-optimize\n",
            "Successfully installed pyaml-24.4.0 scikit-optimize-0.10.2\n"
          ]
        }
      ]
    },
    {
      "cell_type": "code",
      "source": [
        "import pandas as pd\n",
        "import numpy as np\n",
        "from sklearn.model_selection import train_test_split, GridSearchCV\n",
        "from sklearn.preprocessing import StandardScaler\n",
        "from sklearn.metrics import r2_score\n",
        "from sklearn.gaussian_process import GaussianProcessRegressor\n",
        "from sklearn.gaussian_process.kernels import RBF, Matern, RationalQuadratic, ExpSineSquared, DotProduct, ConstantKernel, WhiteKernel\n",
        "from statsmodels.stats.outliers_influence import variance_inflation_factor\n",
        "from skopt import BayesSearchCV\n",
        "import joblib\n",
        "from statsmodels.tsa.stattools import adfuller, kpss\n",
        "import matplotlib.pyplot as plt\n",
        "import seaborn as sns"
      ],
      "metadata": {
        "id": "6jRl63i5PWxo"
      },
      "execution_count": null,
      "outputs": []
    },
    {
      "cell_type": "code",
      "source": [
        "import pandas as pd\n",
        "pd.set_option('display.max_columns', None)\n",
        "pd.set_option('display.max_rows', None)\n",
        "df = pd.read_excel('/content/drive/MyDrive/forecasting akhir yoy ki.xlsx')\n",
        "df = df.iloc[24:-1]\n",
        "target = 'YOY_KI'\n",
        "df.reset_index(drop=True, inplace=True)"
      ],
      "metadata": {
        "id": "XjP-Ycu_-Tvb"
      },
      "execution_count": null,
      "outputs": []
    },
    {
      "cell_type": "markdown",
      "source": [
        "# Feature Engineering"
      ],
      "metadata": {
        "id": "2n9tof5A-duP"
      }
    },
    {
      "cell_type": "markdown",
      "source": [
        "Prediksi t-bulan kedepan"
      ],
      "metadata": {
        "id": "_hVA1qsSQCVv"
      }
    },
    {
      "cell_type": "code",
      "source": [
        "t = 6"
      ],
      "metadata": {
        "id": "lsGdTpFLQzpq"
      },
      "execution_count": null,
      "outputs": []
    },
    {
      "cell_type": "code",
      "source": [
        "data = df.dropna()\n",
        "data['date'] = data['PERIOD'].astype(str).str[:4] +'-'+data['PERIOD'].astype(str).str[-2:]+'-01' #string format\n",
        "data['date'] = pd.to_datetime(data['date'], format='%Y-%m-%d') #parse to date format\n",
        "data = data.drop('PERIOD',axis=1)\n",
        "data.reset_index(drop=True, inplace=True)\n",
        "data.set_index('date',inplace=True)\n",
        "data.index = data.index + pd.DateOffset(months=t)"
      ],
      "metadata": {
        "id": "tb4NFUGbQlX9"
      },
      "execution_count": null,
      "outputs": []
    },
    {
      "cell_type": "markdown",
      "source": [
        "Interpolating quarterly data"
      ],
      "metadata": {
        "id": "OcJzPNtnKtoq"
      }
    },
    {
      "cell_type": "code",
      "source": [
        "def interpolate_quarterly_data(data, column_names):\n",
        "    for column_name in column_names:\n",
        "        # Access the month from the datetime index using .name\n",
        "        data[column_name] = data.apply(\n",
        "            lambda x: x[column_name] if x.name.month in [1, 4, 7, 10] else None, axis=1\n",
        "        )\n",
        "        data[column_name] = data[column_name].interpolate(method='linear')\n",
        "    return data"
      ],
      "metadata": {
        "id": "4V7kke-L-n5n"
      },
      "execution_count": null,
      "outputs": []
    },
    {
      "cell_type": "code",
      "source": [
        "data = interpolate_quarterly_data(data, ['YOY_CAPEX','YOY_NFA','YOY_SALES','MEDIAN_ICR','YOY_DEBT','YOY_CA','ROA','ROE','YOY_PDB']).dropna()"
      ],
      "metadata": {
        "id": "qCYQCFOP-pSu"
      },
      "execution_count": null,
      "outputs": []
    },
    {
      "cell_type": "code",
      "source": [
        "for lag in [1,2,3,4,5,6]:\n",
        "  data[f'{target}_lag_{lag}'] = data[target].shift(lag)"
      ],
      "metadata": {
        "id": "QnheXG7fkXSQ"
      },
      "execution_count": null,
      "outputs": []
    },
    {
      "cell_type": "markdown",
      "source": [
        "Implementing rolling window"
      ],
      "metadata": {
        "id": "dHr8D0RcKv1p"
      }
    },
    {
      "cell_type": "code",
      "source": [
        "window = 3  # 3-month rolling window\n",
        "data[f'rolling_mean_{window}'] = data[target].rolling(window=window).mean()\n",
        "data[f'rolling_std_{window}'] = data[target].rolling(window=window).std()"
      ],
      "metadata": {
        "id": "fcwHY527kvN-"
      },
      "execution_count": null,
      "outputs": []
    },
    {
      "cell_type": "code",
      "source": [
        "data['expanding_mean'] = data[target].expanding(1).mean()\n",
        "data['expanding_std'] = data[target].expanding(1).std()"
      ],
      "metadata": {
        "id": "pVnogR5VlADc"
      },
      "execution_count": null,
      "outputs": []
    },
    {
      "cell_type": "markdown",
      "source": [
        "Implementing seasonal differential"
      ],
      "metadata": {
        "id": "BkqgZVE4K00p"
      }
    },
    {
      "cell_type": "code",
      "source": [
        "data['diff_1'] = data[target].diff(1)\n",
        "data['diff_12'] = data[target].diff(12)"
      ],
      "metadata": {
        "id": "UF_5_BFulCCk"
      },
      "execution_count": null,
      "outputs": []
    },
    {
      "cell_type": "markdown",
      "source": [
        "Implementing seasonal decomposition"
      ],
      "metadata": {
        "id": "JgKIpTruKy6G"
      }
    },
    {
      "cell_type": "code",
      "source": [
        "from statsmodels.tsa.seasonal import seasonal_decompose\n",
        "\n",
        "result = seasonal_decompose(data[target], model='additive', period=12, extrapolate_trend='freq')\n",
        "data['trend'] = result.trend\n",
        "data['seasonal'] = result.seasonal\n",
        "data['residual'] = result.resid"
      ],
      "metadata": {
        "id": "UUumi5K5tAmg"
      },
      "execution_count": null,
      "outputs": []
    },
    {
      "cell_type": "markdown",
      "source": [
        "Implementing fourier transform as feature"
      ],
      "metadata": {
        "id": "lnvmI8uRK4R_"
      }
    },
    {
      "cell_type": "code",
      "source": [
        "def create_fourier_features(data, freq, K):\n",
        "    t = np.arange(len(data))\n",
        "    for k in range(1, K+1):\n",
        "        data[f'sin_{freq}_{k}'] = np.sin(2 * np.pi * k * t / freq)\n",
        "        data[f'cos_{freq}_{k}'] = np.cos(2 * np.pi * k * t / freq)\n",
        "\n",
        "# Assuming a yearly seasonality with monthly data\n",
        "create_fourier_features(data, freq=12, K=3)"
      ],
      "metadata": {
        "id": "jYhx2HxClGFN"
      },
      "execution_count": null,
      "outputs": []
    },
    {
      "cell_type": "code",
      "source": [
        "data = data.dropna()"
      ],
      "metadata": {
        "id": "sf1vB9bTlZvi"
      },
      "execution_count": null,
      "outputs": []
    },
    {
      "cell_type": "markdown",
      "source": [
        "# Train Model Here"
      ],
      "metadata": {
        "id": "9ejncX5mbFu8"
      }
    },
    {
      "cell_type": "code",
      "source": [
        "features = data.columns.difference([target, 'date'])"
      ],
      "metadata": {
        "id": "D25G29U0SLDM"
      },
      "execution_count": null,
      "outputs": []
    },
    {
      "cell_type": "code",
      "source": [
        "X = data[features]\n",
        "y = data[target]\n",
        "X_forecast = X[-t:]\n",
        "X = X[:-t]\n",
        "y = y.shift(-t).dropna()"
      ],
      "metadata": {
        "id": "ytHKOpGL-tos"
      },
      "execution_count": null,
      "outputs": []
    },
    {
      "cell_type": "code",
      "source": [
        "from sklearn.feature_selection import SelectKBest, f_regression\n",
        "selector = SelectKBest(score_func=f_regression, k=10)\n",
        "X_new = selector.fit_transform(X, y)\n",
        "selected_features = X.columns[selector.get_support()]"
      ],
      "metadata": {
        "id": "ke8lMBnidWZJ"
      },
      "execution_count": null,
      "outputs": []
    },
    {
      "cell_type": "code",
      "source": [
        "selected_features"
      ],
      "metadata": {
        "colab": {
          "base_uri": "https://localhost:8080/"
        },
        "id": "CH1NqwUyjrRG",
        "outputId": "517e73ea-16a7-4db6-dff5-a1bbf22e5a06"
      },
      "execution_count": null,
      "outputs": [
        {
          "output_type": "execute_result",
          "data": {
            "text/plain": [
              "Index(['EXRATE', 'IHK_ID', 'MEDIAN_ICR', 'YOY_DEBT', 'YOY_IHK', 'YOY_KI_lag_1',\n",
              "       'YOY_NFA', 'expanding_std', 'rolling_mean_3', 'trend'],\n",
              "      dtype='object')"
            ]
          },
          "metadata": {},
          "execution_count": 19
        }
      ]
    },
    {
      "cell_type": "code",
      "source": [
        "X = X[selected_features]"
      ],
      "metadata": {
        "id": "_hn9lHSHd0mK"
      },
      "execution_count": null,
      "outputs": []
    },
    {
      "cell_type": "code",
      "source": [
        "from sklearn.model_selection import train_test_split\n",
        "X_train, X_test, y_train, y_test = train_test_split(X, y, test_size=0.2, shuffle=False)"
      ],
      "metadata": {
        "id": "f2fzJpfP-w0t"
      },
      "execution_count": null,
      "outputs": []
    },
    {
      "cell_type": "code",
      "source": [
        "from sklearn.preprocessing import StandardScaler\n",
        "scaler = StandardScaler()\n",
        "X_train = scaler.fit_transform(X_train)\n",
        "X_test = scaler.transform(X_test)"
      ],
      "metadata": {
        "id": "OnrezxSw-yoA"
      },
      "execution_count": null,
      "outputs": []
    },
    {
      "cell_type": "code",
      "source": [
        "!pip install lazypredict"
      ],
      "metadata": {
        "colab": {
          "base_uri": "https://localhost:8080/"
        },
        "collapsed": true,
        "id": "BSo3FfB_-2AH",
        "outputId": "fd4b970a-a7ae-46a2-c9f9-36c215fbec2b"
      },
      "execution_count": null,
      "outputs": [
        {
          "output_type": "stream",
          "name": "stdout",
          "text": [
            "Collecting lazypredict\n",
            "  Downloading lazypredict-0.2.12-py2.py3-none-any.whl (12 kB)\n",
            "Requirement already satisfied: click in /usr/local/lib/python3.10/dist-packages (from lazypredict) (8.1.7)\n",
            "Requirement already satisfied: scikit-learn in /usr/local/lib/python3.10/dist-packages (from lazypredict) (1.2.2)\n",
            "Requirement already satisfied: pandas in /usr/local/lib/python3.10/dist-packages (from lazypredict) (2.0.3)\n",
            "Requirement already satisfied: tqdm in /usr/local/lib/python3.10/dist-packages (from lazypredict) (4.66.4)\n",
            "Requirement already satisfied: joblib in /usr/local/lib/python3.10/dist-packages (from lazypredict) (1.4.2)\n",
            "Requirement already satisfied: lightgbm in /usr/local/lib/python3.10/dist-packages (from lazypredict) (4.1.0)\n",
            "Requirement already satisfied: xgboost in /usr/local/lib/python3.10/dist-packages (from lazypredict) (2.0.3)\n",
            "Requirement already satisfied: numpy in /usr/local/lib/python3.10/dist-packages (from lightgbm->lazypredict) (1.25.2)\n",
            "Requirement already satisfied: scipy in /usr/local/lib/python3.10/dist-packages (from lightgbm->lazypredict) (1.11.4)\n",
            "Requirement already satisfied: python-dateutil>=2.8.2 in /usr/local/lib/python3.10/dist-packages (from pandas->lazypredict) (2.8.2)\n",
            "Requirement already satisfied: pytz>=2020.1 in /usr/local/lib/python3.10/dist-packages (from pandas->lazypredict) (2023.4)\n",
            "Requirement already satisfied: tzdata>=2022.1 in /usr/local/lib/python3.10/dist-packages (from pandas->lazypredict) (2024.1)\n",
            "Requirement already satisfied: threadpoolctl>=2.0.0 in /usr/local/lib/python3.10/dist-packages (from scikit-learn->lazypredict) (3.5.0)\n",
            "Requirement already satisfied: six>=1.5 in /usr/local/lib/python3.10/dist-packages (from python-dateutil>=2.8.2->pandas->lazypredict) (1.16.0)\n",
            "Installing collected packages: lazypredict\n",
            "Successfully installed lazypredict-0.2.12\n"
          ]
        }
      ]
    },
    {
      "cell_type": "code",
      "source": [
        "from lazypredict.Supervised import LazyRegressor\n",
        "lazy_reg = LazyRegressor(verbose=0, ignore_warnings=True, custom_metric=None)\n",
        "models, predictions = lazy_reg.fit(X_train, X_test, y_train, y_test)"
      ],
      "metadata": {
        "colab": {
          "base_uri": "https://localhost:8080/"
        },
        "collapsed": true,
        "id": "sksSqZQW-1tb",
        "outputId": "186902c1-18fc-4d9c-a60e-b2b3f9a7c1ee"
      },
      "execution_count": null,
      "outputs": [
        {
          "output_type": "stream",
          "name": "stderr",
          "text": [
            "100%|██████████| 42/42 [00:07<00:00,  5.67it/s]"
          ]
        },
        {
          "output_type": "stream",
          "name": "stdout",
          "text": [
            "[LightGBM] [Info] Auto-choosing col-wise multi-threading, the overhead of testing was 0.000168 seconds.\n",
            "You can set `force_col_wise=true` to remove the overhead.\n",
            "[LightGBM] [Info] Total Bins 350\n",
            "[LightGBM] [Info] Number of data points in the train set: 100, number of used features: 10\n",
            "[LightGBM] [Info] Start training from score 18.710027\n",
            "[LightGBM] [Warning] No further splits with positive gain, best gain: -inf\n",
            "[LightGBM] [Warning] No further splits with positive gain, best gain: -inf\n",
            "[LightGBM] [Warning] No further splits with positive gain, best gain: -inf\n",
            "[LightGBM] [Warning] No further splits with positive gain, best gain: -inf\n",
            "[LightGBM] [Warning] No further splits with positive gain, best gain: -inf\n",
            "[LightGBM] [Warning] No further splits with positive gain, best gain: -inf\n",
            "[LightGBM] [Warning] No further splits with positive gain, best gain: -inf\n",
            "[LightGBM] [Warning] No further splits with positive gain, best gain: -inf\n",
            "[LightGBM] [Warning] No further splits with positive gain, best gain: -inf\n",
            "[LightGBM] [Warning] No further splits with positive gain, best gain: -inf\n",
            "[LightGBM] [Warning] No further splits with positive gain, best gain: -inf\n",
            "[LightGBM] [Warning] No further splits with positive gain, best gain: -inf\n",
            "[LightGBM] [Warning] No further splits with positive gain, best gain: -inf\n",
            "[LightGBM] [Warning] No further splits with positive gain, best gain: -inf\n",
            "[LightGBM] [Warning] No further splits with positive gain, best gain: -inf\n",
            "[LightGBM] [Warning] No further splits with positive gain, best gain: -inf\n",
            "[LightGBM] [Warning] No further splits with positive gain, best gain: -inf\n",
            "[LightGBM] [Warning] No further splits with positive gain, best gain: -inf\n",
            "[LightGBM] [Warning] No further splits with positive gain, best gain: -inf\n",
            "[LightGBM] [Warning] No further splits with positive gain, best gain: -inf\n",
            "[LightGBM] [Warning] No further splits with positive gain, best gain: -inf\n",
            "[LightGBM] [Warning] No further splits with positive gain, best gain: -inf\n",
            "[LightGBM] [Warning] No further splits with positive gain, best gain: -inf\n",
            "[LightGBM] [Warning] No further splits with positive gain, best gain: -inf\n",
            "[LightGBM] [Warning] No further splits with positive gain, best gain: -inf\n",
            "[LightGBM] [Warning] No further splits with positive gain, best gain: -inf\n",
            "[LightGBM] [Warning] No further splits with positive gain, best gain: -inf\n",
            "[LightGBM] [Warning] No further splits with positive gain, best gain: -inf\n",
            "[LightGBM] [Warning] No further splits with positive gain, best gain: -inf\n",
            "[LightGBM] [Warning] No further splits with positive gain, best gain: -inf\n",
            "[LightGBM] [Warning] No further splits with positive gain, best gain: -inf\n",
            "[LightGBM] [Warning] No further splits with positive gain, best gain: -inf\n",
            "[LightGBM] [Warning] No further splits with positive gain, best gain: -inf\n",
            "[LightGBM] [Warning] No further splits with positive gain, best gain: -inf\n",
            "[LightGBM] [Warning] No further splits with positive gain, best gain: -inf\n",
            "[LightGBM] [Warning] No further splits with positive gain, best gain: -inf\n",
            "[LightGBM] [Warning] No further splits with positive gain, best gain: -inf\n",
            "[LightGBM] [Warning] No further splits with positive gain, best gain: -inf\n",
            "[LightGBM] [Warning] No further splits with positive gain, best gain: -inf\n",
            "[LightGBM] [Warning] No further splits with positive gain, best gain: -inf\n",
            "[LightGBM] [Warning] No further splits with positive gain, best gain: -inf\n",
            "[LightGBM] [Warning] No further splits with positive gain, best gain: -inf\n",
            "[LightGBM] [Warning] No further splits with positive gain, best gain: -inf\n",
            "[LightGBM] [Warning] No further splits with positive gain, best gain: -inf\n",
            "[LightGBM] [Warning] No further splits with positive gain, best gain: -inf\n",
            "[LightGBM] [Warning] No further splits with positive gain, best gain: -inf\n",
            "[LightGBM] [Warning] No further splits with positive gain, best gain: -inf\n",
            "[LightGBM] [Warning] No further splits with positive gain, best gain: -inf\n",
            "[LightGBM] [Warning] No further splits with positive gain, best gain: -inf\n",
            "[LightGBM] [Warning] No further splits with positive gain, best gain: -inf\n",
            "[LightGBM] [Warning] No further splits with positive gain, best gain: -inf\n",
            "[LightGBM] [Warning] No further splits with positive gain, best gain: -inf\n",
            "[LightGBM] [Warning] No further splits with positive gain, best gain: -inf\n",
            "[LightGBM] [Warning] No further splits with positive gain, best gain: -inf\n",
            "[LightGBM] [Warning] No further splits with positive gain, best gain: -inf\n",
            "[LightGBM] [Warning] No further splits with positive gain, best gain: -inf\n",
            "[LightGBM] [Warning] No further splits with positive gain, best gain: -inf\n",
            "[LightGBM] [Warning] No further splits with positive gain, best gain: -inf\n",
            "[LightGBM] [Warning] No further splits with positive gain, best gain: -inf\n",
            "[LightGBM] [Warning] No further splits with positive gain, best gain: -inf\n",
            "[LightGBM] [Warning] No further splits with positive gain, best gain: -inf\n",
            "[LightGBM] [Warning] No further splits with positive gain, best gain: -inf\n",
            "[LightGBM] [Warning] No further splits with positive gain, best gain: -inf\n",
            "[LightGBM] [Warning] No further splits with positive gain, best gain: -inf\n",
            "[LightGBM] [Warning] No further splits with positive gain, best gain: -inf\n",
            "[LightGBM] [Warning] No further splits with positive gain, best gain: -inf\n",
            "[LightGBM] [Warning] No further splits with positive gain, best gain: -inf\n",
            "[LightGBM] [Warning] No further splits with positive gain, best gain: -inf\n",
            "[LightGBM] [Warning] No further splits with positive gain, best gain: -inf\n",
            "[LightGBM] [Warning] No further splits with positive gain, best gain: -inf\n",
            "[LightGBM] [Warning] No further splits with positive gain, best gain: -inf\n",
            "[LightGBM] [Warning] No further splits with positive gain, best gain: -inf\n",
            "[LightGBM] [Warning] No further splits with positive gain, best gain: -inf\n",
            "[LightGBM] [Warning] No further splits with positive gain, best gain: -inf\n",
            "[LightGBM] [Warning] No further splits with positive gain, best gain: -inf\n",
            "[LightGBM] [Warning] No further splits with positive gain, best gain: -inf\n",
            "[LightGBM] [Warning] No further splits with positive gain, best gain: -inf\n",
            "[LightGBM] [Warning] No further splits with positive gain, best gain: -inf\n",
            "[LightGBM] [Warning] No further splits with positive gain, best gain: -inf\n",
            "[LightGBM] [Warning] No further splits with positive gain, best gain: -inf\n",
            "[LightGBM] [Warning] No further splits with positive gain, best gain: -inf\n",
            "[LightGBM] [Warning] No further splits with positive gain, best gain: -inf\n",
            "[LightGBM] [Warning] No further splits with positive gain, best gain: -inf\n",
            "[LightGBM] [Warning] No further splits with positive gain, best gain: -inf\n",
            "[LightGBM] [Warning] No further splits with positive gain, best gain: -inf\n",
            "[LightGBM] [Warning] No further splits with positive gain, best gain: -inf\n",
            "[LightGBM] [Warning] No further splits with positive gain, best gain: -inf\n",
            "[LightGBM] [Warning] No further splits with positive gain, best gain: -inf\n",
            "[LightGBM] [Warning] No further splits with positive gain, best gain: -inf\n",
            "[LightGBM] [Warning] No further splits with positive gain, best gain: -inf\n",
            "[LightGBM] [Warning] No further splits with positive gain, best gain: -inf\n",
            "[LightGBM] [Warning] No further splits with positive gain, best gain: -inf\n",
            "[LightGBM] [Warning] No further splits with positive gain, best gain: -inf\n",
            "[LightGBM] [Warning] No further splits with positive gain, best gain: -inf\n",
            "[LightGBM] [Warning] No further splits with positive gain, best gain: -inf\n",
            "[LightGBM] [Warning] No further splits with positive gain, best gain: -inf\n",
            "[LightGBM] [Warning] No further splits with positive gain, best gain: -inf\n",
            "[LightGBM] [Warning] No further splits with positive gain, best gain: -inf\n",
            "[LightGBM] [Warning] No further splits with positive gain, best gain: -inf\n",
            "[LightGBM] [Warning] No further splits with positive gain, best gain: -inf\n"
          ]
        },
        {
          "output_type": "stream",
          "name": "stderr",
          "text": [
            "\n"
          ]
        }
      ]
    },
    {
      "cell_type": "code",
      "source": [
        "print(models)"
      ],
      "metadata": {
        "colab": {
          "base_uri": "https://localhost:8080/"
        },
        "id": "Il-2p66j_Mis",
        "outputId": "b438037f-4f0e-4643-bccc-5fdf38fcdd74"
      },
      "execution_count": null,
      "outputs": [
        {
          "output_type": "stream",
          "name": "stdout",
          "text": [
            "                               Adjusted R-Squared  R-Squared  RMSE  Time Taken\n",
            "Model                                                                         \n",
            "SVR                                         -1.27      -0.36  4.46        0.02\n",
            "NuSVR                                       -1.42      -0.45  4.61        0.03\n",
            "ElasticNet                                  -1.56      -0.53  4.74        0.02\n",
            "TweedieRegressor                            -1.77      -0.66  4.93        0.03\n",
            "ElasticNetCV                                -1.87      -0.72  5.02        0.11\n",
            "ExtraTreesRegressor                         -1.87      -0.72  5.02        0.23\n",
            "Lasso                                       -1.89      -0.73  5.03        0.03\n",
            "LassoLars                                   -1.89      -0.73  5.03        0.04\n",
            "MLPRegressor                                -1.98      -0.79  5.12        0.62\n",
            "OrthogonalMatchingPursuit                   -2.04      -0.82  5.16        0.04\n",
            "LinearSVR                                   -2.17      -0.90  5.27        0.02\n",
            "OrthogonalMatchingPursuitCV                 -2.50      -1.10  5.54        0.05\n",
            "GradientBoostingRegressor                   -2.69      -1.22  5.70        0.20\n",
            "KNeighborsRegressor                         -2.96      -1.38  5.90        0.02\n",
            "AdaBoostRegressor                           -3.34      -1.61  6.17        0.21\n",
            "LassoCV                                     -3.58      -1.75  6.34        0.14\n",
            "LassoLarsCV                                 -3.62      -1.77  6.37        0.13\n",
            "RandomForestRegressor                       -3.71      -1.82  6.43        0.52\n",
            "BaggingRegressor                            -3.78      -1.87  6.48        0.16\n",
            "HistGradientBoostingRegressor               -4.34      -2.20  6.85        2.13\n",
            "LGBMRegressor                               -4.48      -2.29  6.94        0.23\n",
            "RANSACRegressor                             -5.16      -2.70  7.35        0.24\n",
            "SGDRegressor                                -5.47      -2.88  7.54        0.02\n",
            "XGBRegressor                                -5.56      -2.93  7.59        1.51\n",
            "HuberRegressor                              -5.69      -3.01  7.66        0.05\n",
            "DummyRegressor                              -6.50      -3.50  8.11        0.01\n",
            "Ridge                                       -6.62      -3.57  8.18        0.01\n",
            "RidgeCV                                     -6.62      -3.57  8.18        0.03\n",
            "DecisionTreeRegressor                       -6.97      -3.78  8.36        0.02\n",
            "BayesianRidge                               -7.34      -4.00  8.56        0.05\n",
            "LassoLarsIC                                 -8.34      -4.60  9.05        0.06\n",
            "LinearRegression                            -8.65      -4.79  9.20        0.03\n",
            "TransformedTargetRegressor                  -8.65      -4.79  9.20        0.01\n",
            "ExtraTreeRegressor                         -11.07      -6.24 10.29        0.02\n",
            "GaussianProcessRegressor                   -12.27      -6.96 10.79        0.03\n",
            "PassiveAggressiveRegressor                 -22.44     -13.06 14.34        0.02\n",
            "KernelRidge                                -41.48     -24.49 19.31        0.02\n",
            "LarsCV                                    -438.03    -262.42 62.08        0.10\n",
            "Lars                                      -618.09    -370.45 73.72        0.05\n"
          ]
        }
      ]
    },
    {
      "cell_type": "code",
      "source": [
        "from sklearn.svm import SVR\n",
        "from sklearn.model_selection import GridSearchCV\n",
        "from sklearn.metrics import r2_score, mean_squared_error\n",
        "import numpy as np\n",
        "\n",
        "# Define the parameter grid for SVR\n",
        "param_grid_svr = {\n",
        "    'kernel': ['linear', 'poly', 'rbf', 'sigmoid'],   # Types of kernels\n",
        "    'C': [0.1, 1.0, 10.0, 100.0],                      # Regularization parameter\n",
        "    'epsilon': [0.01, 0.1, 0.2, 0.5, 1.0],             # Epsilon insensitive parameter\n",
        "    'gamma': ['scale', 'auto', 0.1, 0.01, 0.001]       # Kernel coefficient for 'rbf', 'poly', and 'sigmoid'\n",
        "}\n",
        "\n",
        "# Perform Grid Search with Cross-Validation\n",
        "grid_search_svr = GridSearchCV(estimator=SVR(), param_grid=param_grid_svr, cv=3, scoring='r2')\n",
        "grid_search_svr.fit(X_train, y_train)\n",
        "\n",
        "# Print the best parameters found by Grid Search\n",
        "print(\"Best parameters found by Grid Search for SVR:\", grid_search_svr.best_params_)\n",
        "\n",
        "# Train the final model using the best parameters from Grid Search\n",
        "final_model_svr_grid = SVR(**grid_search_svr.best_params_)\n",
        "final_model_svr_grid.fit(X_train, y_train)\n",
        "\n",
        "# Make predictions\n",
        "y_pred_svr_grid = final_model_svr_grid.predict(X_test)\n",
        "\n",
        "# Evaluate the refined model\n",
        "r2_svr_grid = r2_score(y_test, y_pred_svr_grid)\n",
        "print(f'R^2 Score for SVR with Grid Search: {r2_svr_grid}')\n",
        "mse_svr_grid = mean_squared_error(y_test, y_pred_svr_grid)\n",
        "print(f'Mean Squared Error for SVR with Grid Search: {mse_svr_grid}')"
      ],
      "metadata": {
        "colab": {
          "base_uri": "https://localhost:8080/"
        },
        "id": "NpMoWDwhLsFo",
        "outputId": "976da76c-acf7-45ac-83bd-72b4fbf047a1"
      },
      "execution_count": null,
      "outputs": [
        {
          "output_type": "stream",
          "name": "stdout",
          "text": [
            "Best parameters found by Grid Search for SVR: {'C': 1.0, 'epsilon': 0.01, 'gamma': 'scale', 'kernel': 'poly'}\n",
            "R^2 Score for SVR with Grid Search: 0.03486835094038887\n",
            "Mean Squared Error for SVR with Grid Search: 14.120819796989553\n"
          ]
        }
      ]
    },
    {
      "cell_type": "code",
      "source": [
        "print(f'Root Mean Squared Error for SVR with Grid Search: {np.sqrt(mse_svr_grid)}')"
      ],
      "metadata": {
        "colab": {
          "base_uri": "https://localhost:8080/"
        },
        "id": "ojwWcFygzT7t",
        "outputId": "d5d4e3c6-1ba5-46a7-fd20-afd93f097124"
      },
      "execution_count": null,
      "outputs": [
        {
          "output_type": "stream",
          "name": "stdout",
          "text": [
            "Root Mean Squared Error for SVR with Grid Search: 3.757767927505576\n"
          ]
        }
      ]
    },
    {
      "cell_type": "code",
      "source": [
        "# prompt: plot Y and predicted Y using final_model_etr_grid model\n",
        "\n",
        "import matplotlib.pyplot as plt\n",
        "plt.figure(figsize=(10, 6))\n",
        "\n",
        "# Plot the actual values\n",
        "plt.plot(data.index[:-6], y.to_numpy().reshape(-1, 1), label=\"Actual\")\n",
        "# Plot the predicted values\n",
        "y_predicted = final_model_svr_grid.predict(scaler.transform(X))\n",
        "y_forecast = final_model_svr_grid.predict(scaler.transform(X_forecast[selected_features]))\n",
        "plt.plot(data.index, np.concatenate((y_predicted, y_forecast)), label=\"Predicted\")\n",
        "plt.axvline(x=data.index[len(y_train)], color='r', linestyle='--', label='Train/Test Split')\n",
        "plt.axvline(x=data.index[len(y_train) + len(y_test)-1], color='g', linestyle='--', label='Test/Forecast Split')\n",
        "# Add labels and title\n",
        "plt.xlabel(\"Time\")\n",
        "plt.ylabel(\"Target Variable\")\n",
        "plt.title(\"Actual vs Predicted Values using SVR with Grid Search\")\n",
        "\n",
        "# Add legend and show the plot\n",
        "plt.legend()\n",
        "plt.show()\n"
      ],
      "metadata": {
        "colab": {
          "base_uri": "https://localhost:8080/",
          "height": 564
        },
        "id": "IxGqJwhan_-c",
        "outputId": "89dc074c-49a1-403d-c6a1-8ace0ac4f70f"
      },
      "execution_count": null,
      "outputs": [
        {
          "output_type": "display_data",
          "data": {
            "text/plain": [
              "<Figure size 1000x600 with 1 Axes>"
            ],
            "image/png": "[encoded data removed]"
          },
          "metadata": {}
        }
      ]
    },
    {
      "cell_type": "code",
      "source": [
        "!pip install shap"
      ],
      "metadata": {
        "colab": {
          "base_uri": "https://localhost:8080/"
        },
        "id": "HPwlws1C5H3H",
        "outputId": "a7b6c2c5-ff39-4535-d096-8fcf45090cdf"
      },
      "execution_count": null,
      "outputs": [
        {
          "output_type": "stream",
          "name": "stdout",
          "text": [
            "Collecting shap\n",
            "  Downloading shap-0.45.1-cp310-cp310-manylinux_2_12_x86_64.manylinux2010_x86_64.manylinux_2_17_x86_64.manylinux2014_x86_64.whl (540 kB)\n",
            "\u001b[2K     \u001b[90m━━━━━━━━━━━━━━━━━━━━━━━━━━━━━━━━━━━━━━━━\u001b[0m \u001b[32m540.5/540.5 kB\u001b[0m \u001b[31m5.1 MB/s\u001b[0m eta \u001b[36m0:00:00\u001b[0m\n",
            "\u001b[?25hRequirement already satisfied: numpy in /usr/local/lib/python3.10/dist-packages (from shap) (1.25.2)\n",
            "Requirement already satisfied: scipy in /usr/local/lib/python3.10/dist-packages (from shap) (1.11.4)\n",
            "Requirement already satisfied: scikit-learn in /usr/local/lib/python3.10/dist-packages (from shap) (1.2.2)\n",
            "Requirement already satisfied: pandas in /usr/local/lib/python3.10/dist-packages (from shap) (2.0.3)\n",
            "Requirement already satisfied: tqdm>=4.27.0 in /usr/local/lib/python3.10/dist-packages (from shap) (4.66.4)\n",
            "Requirement already satisfied: packaging>20.9 in /usr/local/lib/python3.10/dist-packages (from shap) (24.1)\n",
            "Collecting slicer==0.0.8 (from shap)\n",
            "  Downloading slicer-0.0.8-py3-none-any.whl (15 kB)\n",
            "Requirement already satisfied: numba in /usr/local/lib/python3.10/dist-packages (from shap) (0.58.1)\n",
            "Requirement already satisfied: cloudpickle in /usr/local/lib/python3.10/dist-packages (from shap) (2.2.1)\n",
            "Requirement already satisfied: llvmlite<0.42,>=0.41.0dev0 in /usr/local/lib/python3.10/dist-packages (from numba->shap) (0.41.1)\n",
            "Requirement already satisfied: python-dateutil>=2.8.2 in /usr/local/lib/python3.10/dist-packages (from pandas->shap) (2.8.2)\n",
            "Requirement already satisfied: pytz>=2020.1 in /usr/local/lib/python3.10/dist-packages (from pandas->shap) (2023.4)\n",
            "Requirement already satisfied: tzdata>=2022.1 in /usr/local/lib/python3.10/dist-packages (from pandas->shap) (2024.1)\n",
            "Requirement already satisfied: joblib>=1.1.1 in /usr/local/lib/python3.10/dist-packages (from scikit-learn->shap) (1.4.2)\n",
            "Requirement already satisfied: threadpoolctl>=2.0.0 in /usr/local/lib/python3.10/dist-packages (from scikit-learn->shap) (3.5.0)\n",
            "Requirement already satisfied: six>=1.5 in /usr/local/lib/python3.10/dist-packages (from python-dateutil>=2.8.2->pandas->shap) (1.16.0)\n",
            "Installing collected packages: slicer, shap\n",
            "Successfully installed shap-0.45.1 slicer-0.0.8\n"
          ]
        }
      ]
    },
    {
      "cell_type": "code",
      "source": [
        "import shap\n",
        "\n",
        "explainer = shap.KernelExplainer(final_model_svr_grid.predict, scaler.transform(X_train))\n",
        "\n",
        "sample_data = scaler.transform(X_test)\n",
        "# Explain the model's predictions for the sample data\n",
        "shap_values = explainer.shap_values(sample_data)\n",
        "\n",
        "# Summarize the shap values for each feature\n",
        "shap.summary_plot(shap_values, X_test, plot_type=\"bar\", feature_names=X.columns)\n"
      ],
      "metadata": {
        "colab": {
          "base_uri": "https://localhost:8080/",
          "height": 589,
          "referenced_widgets": [
            "e08f3271f08c420fbc292360cd7dd1ed",
            "b26fed9f4057417c91b5ddf451f1cc96",
            "528bee7d5fcf4e11b7a4996e35868927",
            "0e36172a6d7e415ca8746c7524a81ad7",
            "2baf20141c204c1faa6fba756d569c31",
            "fbc442992ca24698834ef289eee6880e",
            "daae8ac3d734475bb7c357a75958184b",
            "a7da80a2334c42db9514f6dc038fdf6a",
            "1a2f3ab5f26748e3b353ef4aba915ce1",
            "f0f65c9ca1c3491786252875b9cc5cd4",
            "6d1a1d951d6046148b314353ff6c97a3"
          ]
        },
        "id": "jJTKITAn41N5",
        "outputId": "4119929d-f872-4a41-f84b-65e72a530318"
      },
      "execution_count": null,
      "outputs": [
        {
          "output_type": "display_data",
          "data": {
            "text/plain": [
              "  0%|          | 0/26 [00:00<?, ?it/s]"
            ],
            "application/vnd.jupyter.widget-view+json": {
              "version_major": 2,
              "version_minor": 0,
              "model_id": "e08f3271f08c420fbc292360cd7dd1ed"
            }
          },
          "metadata": {}
        },
        {
          "output_type": "display_data",
          "data": {
            "text/plain": [
              "<Figure size 800x550 with 1 Axes>"
            ],
            "image/png": "[encoded data removed]"
          },
          "metadata": {}
        }
      ]
    }
  ]
}