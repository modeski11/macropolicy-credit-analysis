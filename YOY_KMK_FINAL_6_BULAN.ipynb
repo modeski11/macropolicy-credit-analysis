{
  "nbformat": 4,
  "nbformat_minor": 0,
  "metadata": {
    "colab": {
      "provenance": []
    },
    "kernelspec": {
      "name": "python3",
      "display_name": "Python 3"
    },
    "language_info": {
      "name": "python"
    },
    "widgets": {
      "application/vnd.jupyter.widget-state+json": {
        "0fa4a944a26648b0a915a683dcd54c79": {
          "model_module": "@jupyter-widgets/controls",
          "model_name": "HBoxModel",
          "model_module_version": "1.5.0",
          "state": {
            "_dom_classes": [],
            "_model_module": "@jupyter-widgets/controls",
            "_model_module_version": "1.5.0",
            "_model_name": "HBoxModel",
            "_view_count": null,
            "_view_module": "@jupyter-widgets/controls",
            "_view_module_version": "1.5.0",
            "_view_name": "HBoxView",
            "box_style": "",
            "children": [
              "IPY_MODEL_af33eb88494749f5b0ad4f48f570a54a",
              "IPY_MODEL_5a43c22019674b5395aaa61dcb140cfd",
              "IPY_MODEL_1112b04c248c496fb3011a659ee90716"
            ],
            "layout": "IPY_MODEL_5698acf046e3463781a9d63686a03f31"
          }
        },
        "af33eb88494749f5b0ad4f48f570a54a": {
          "model_module": "@jupyter-widgets/controls",
          "model_name": "HTMLModel",
          "model_module_version": "1.5.0",
          "state": {
            "_dom_classes": [],
            "_model_module": "@jupyter-widgets/controls",
            "_model_module_version": "1.5.0",
            "_model_name": "HTMLModel",
            "_view_count": null,
            "_view_module": "@jupyter-widgets/controls",
            "_view_module_version": "1.5.0",
            "_view_name": "HTMLView",
            "description": "",
            "description_tooltip": null,
            "layout": "IPY_MODEL_3f4a2b11b3d7433191f71bf8a23a7d63",
            "placeholder": "​",
            "style": "IPY_MODEL_2d3cd7aac45f42ab8c6537766ba4d3d7",
            "value": "100%"
          }
        },
        "5a43c22019674b5395aaa61dcb140cfd": {
          "model_module": "@jupyter-widgets/controls",
          "model_name": "FloatProgressModel",
          "model_module_version": "1.5.0",
          "state": {
            "_dom_classes": [],
            "_model_module": "@jupyter-widgets/controls",
            "_model_module_version": "1.5.0",
            "_model_name": "FloatProgressModel",
            "_view_count": null,
            "_view_module": "@jupyter-widgets/controls",
            "_view_module_version": "1.5.0",
            "_view_name": "ProgressView",
            "bar_style": "success",
            "description": "",
            "description_tooltip": null,
            "layout": "IPY_MODEL_a7159ca9f0e449edb41097e3c1cb5702",
            "max": 26,
            "min": 0,
            "orientation": "horizontal",
            "style": "IPY_MODEL_95154453bfa041f0ac699c93966a36b3",
            "value": 26
          }
        },
        "1112b04c248c496fb3011a659ee90716": {
          "model_module": "@jupyter-widgets/controls",
          "model_name": "HTMLModel",
          "model_module_version": "1.5.0",
          "state": {
            "_dom_classes": [],
            "_model_module": "@jupyter-widgets/controls",
            "_model_module_version": "1.5.0",
            "_model_name": "HTMLModel",
            "_view_count": null,
            "_view_module": "@jupyter-widgets/controls",
            "_view_module_version": "1.5.0",
            "_view_name": "HTMLView",
            "description": "",
            "description_tooltip": null,
            "layout": "IPY_MODEL_33d6d043f46540b9b8eff468f0bd405d",
            "placeholder": "​",
            "style": "IPY_MODEL_bd7d3aa34b0445ac848eb936f7cccaad",
            "value": " 26/26 [01:17&lt;00:00,  1.69s/it]"
          }
        },
        "5698acf046e3463781a9d63686a03f31": {
          "model_module": "@jupyter-widgets/base",
          "model_name": "LayoutModel",
          "model_module_version": "1.2.0",
          "state": {
            "_model_module": "@jupyter-widgets/base",
            "_model_module_version": "1.2.0",
            "_model_name": "LayoutModel",
            "_view_count": null,
            "_view_module": "@jupyter-widgets/base",
            "_view_module_version": "1.2.0",
            "_view_name": "LayoutView",
            "align_content": null,
            "align_items": null,
            "align_self": null,
            "border": null,
            "bottom": null,
            "display": null,
            "flex": null,
            "flex_flow": null,
            "grid_area": null,
            "grid_auto_columns": null,
            "grid_auto_flow": null,
            "grid_auto_rows": null,
            "grid_column": null,
            "grid_gap": null,
            "grid_row": null,
            "grid_template_areas": null,
            "grid_template_columns": null,
            "grid_template_rows": null,
            "height": null,
            "justify_content": null,
            "justify_items": null,
            "left": null,
            "margin": null,
            "max_height": null,
            "max_width": null,
            "min_height": null,
            "min_width": null,
            "object_fit": null,
            "object_position": null,
            "order": null,
            "overflow": null,
            "overflow_x": null,
            "overflow_y": null,
            "padding": null,
            "right": null,
            "top": null,
            "visibility": null,
            "width": null
          }
        },
        "3f4a2b11b3d7433191f71bf8a23a7d63": {
          "model_module": "@jupyter-widgets/base",
          "model_name": "LayoutModel",
          "model_module_version": "1.2.0",
          "state": {
            "_model_module": "@jupyter-widgets/base",
            "_model_module_version": "1.2.0",
            "_model_name": "LayoutModel",
            "_view_count": null,
            "_view_module": "@jupyter-widgets/base",
            "_view_module_version": "1.2.0",
            "_view_name": "LayoutView",
            "align_content": null,
            "align_items": null,
            "align_self": null,
            "border": null,
            "bottom": null,
            "display": null,
            "flex": null,
            "flex_flow": null,
            "grid_area": null,
            "grid_auto_columns": null,
            "grid_auto_flow": null,
            "grid_auto_rows": null,
            "grid_column": null,
            "grid_gap": null,
            "grid_row": null,
            "grid_template_areas": null,
            "grid_template_columns": null,
            "grid_template_rows": null,
            "height": null,
            "justify_content": null,
            "justify_items": null,
            "left": null,
            "margin": null,
            "max_height": null,
            "max_width": null,
            "min_height": null,
            "min_width": null,
            "object_fit": null,
            "object_position": null,
            "order": null,
            "overflow": null,
            "overflow_x": null,
            "overflow_y": null,
            "padding": null,
            "right": null,
            "top": null,
            "visibility": null,
            "width": null
          }
        },
        "2d3cd7aac45f42ab8c6537766ba4d3d7": {
          "model_module": "@jupyter-widgets/controls",
          "model_name": "DescriptionStyleModel",
          "model_module_version": "1.5.0",
          "state": {
            "_model_module": "@jupyter-widgets/controls",
            "_model_module_version": "1.5.0",
            "_model_name": "DescriptionStyleModel",
            "_view_count": null,
            "_view_module": "@jupyter-widgets/base",
            "_view_module_version": "1.2.0",
            "_view_name": "StyleView",
            "description_width": ""
          }
        },
        "a7159ca9f0e449edb41097e3c1cb5702": {
          "model_module": "@jupyter-widgets/base",
          "model_name": "LayoutModel",
          "model_module_version": "1.2.0",
          "state": {
            "_model_module": "@jupyter-widgets/base",
            "_model_module_version": "1.2.0",
            "_model_name": "LayoutModel",
            "_view_count": null,
            "_view_module": "@jupyter-widgets/base",
            "_view_module_version": "1.2.0",
            "_view_name": "LayoutView",
            "align_content": null,
            "align_items": null,
            "align_self": null,
            "border": null,
            "bottom": null,
            "display": null,
            "flex": null,
            "flex_flow": null,
            "grid_area": null,
            "grid_auto_columns": null,
            "grid_auto_flow": null,
            "grid_auto_rows": null,
            "grid_column": null,
            "grid_gap": null,
            "grid_row": null,
            "grid_template_areas": null,
            "grid_template_columns": null,
            "grid_template_rows": null,
            "height": null,
            "justify_content": null,
            "justify_items": null,
            "left": null,
            "margin": null,
            "max_height": null,
            "max_width": null,
            "min_height": null,
            "min_width": null,
            "object_fit": null,
            "object_position": null,
            "order": null,
            "overflow": null,
            "overflow_x": null,
            "overflow_y": null,
            "padding": null,
            "right": null,
            "top": null,
            "visibility": null,
            "width": null
          }
        },
        "95154453bfa041f0ac699c93966a36b3": {
          "model_module": "@jupyter-widgets/controls",
          "model_name": "ProgressStyleModel",
          "model_module_version": "1.5.0",
          "state": {
            "_model_module": "@jupyter-widgets/controls",
            "_model_module_version": "1.5.0",
            "_model_name": "ProgressStyleModel",
            "_view_count": null,
            "_view_module": "@jupyter-widgets/base",
            "_view_module_version": "1.2.0",
            "_view_name": "StyleView",
            "bar_color": null,
            "description_width": ""
          }
        },
        "33d6d043f46540b9b8eff468f0bd405d": {
          "model_module": "@jupyter-widgets/base",
          "model_name": "LayoutModel",
          "model_module_version": "1.2.0",
          "state": {
            "_model_module": "@jupyter-widgets/base",
            "_model_module_version": "1.2.0",
            "_model_name": "LayoutModel",
            "_view_count": null,
            "_view_module": "@jupyter-widgets/base",
            "_view_module_version": "1.2.0",
            "_view_name": "LayoutView",
            "align_content": null,
            "align_items": null,
            "align_self": null,
            "border": null,
            "bottom": null,
            "display": null,
            "flex": null,
            "flex_flow": null,
            "grid_area": null,
            "grid_auto_columns": null,
            "grid_auto_flow": null,
            "grid_auto_rows": null,
            "grid_column": null,
            "grid_gap": null,
            "grid_row": null,
            "grid_template_areas": null,
            "grid_template_columns": null,
            "grid_template_rows": null,
            "height": null,
            "justify_content": null,
            "justify_items": null,
            "left": null,
            "margin": null,
            "max_height": null,
            "max_width": null,
            "min_height": null,
            "min_width": null,
            "object_fit": null,
            "object_position": null,
            "order": null,
            "overflow": null,
            "overflow_x": null,
            "overflow_y": null,
            "padding": null,
            "right": null,
            "top": null,
            "visibility": null,
            "width": null
          }
        },
        "bd7d3aa34b0445ac848eb936f7cccaad": {
          "model_module": "@jupyter-widgets/controls",
          "model_name": "DescriptionStyleModel",
          "model_module_version": "1.5.0",
          "state": {
            "_model_module": "@jupyter-widgets/controls",
            "_model_module_version": "1.5.0",
            "_model_name": "DescriptionStyleModel",
            "_view_count": null,
            "_view_module": "@jupyter-widgets/base",
            "_view_module_version": "1.2.0",
            "_view_name": "StyleView",
            "description_width": ""
          }
        }
      }
    }
  },
  "cells": [
    {
      "cell_type": "code",
      "execution_count": null,
      "metadata": {
        "colab": {
          "base_uri": "https://localhost:8080/"
        },
        "id": "QSUotCco-EVh",
        "outputId": "fe659b4f-f310-4bbf-b84b-d5b4fd387a9f"
      },
      "outputs": [
        {
          "output_type": "stream",
          "name": "stdout",
          "text": [
            "Mounted at /content/drive\n"
          ]
        }
      ],
      "source": [
        "from google.colab import drive\n",
        "drive.mount('/content/drive')"
      ]
    },
    {
      "cell_type": "code",
      "source": [
        "!pip install scikit-optimize"
      ],
      "metadata": {
        "colab": {
          "base_uri": "https://localhost:8080/"
        },
        "id": "VqsZmh0OPXhb",
        "outputId": "12c35e08-64fd-4e42-b710-b91b8a897c92"
      },
      "execution_count": null,
      "outputs": [
        {
          "output_type": "stream",
          "name": "stdout",
          "text": [
            "Collecting scikit-optimize\n",
            "  Downloading scikit_optimize-0.10.2-py2.py3-none-any.whl (107 kB)\n",
            "\u001b[2K     \u001b[90m━━━━━━━━━━━━━━━━━━━━━━━━━━━━━━━━━━━━━━━━\u001b[0m \u001b[32m107.8/107.8 kB\u001b[0m \u001b[31m2.0 MB/s\u001b[0m eta \u001b[36m0:00:00\u001b[0m\n",
            "\u001b[?25hRequirement already satisfied: joblib>=0.11 in /usr/local/lib/python3.10/dist-packages (from scikit-optimize) (1.4.2)\n",
            "Collecting pyaml>=16.9 (from scikit-optimize)\n",
            "  Downloading pyaml-24.4.0-py3-none-any.whl (24 kB)\n",
            "Requirement already satisfied: numpy>=1.20.3 in /usr/local/lib/python3.10/dist-packages (from scikit-optimize) (1.25.2)\n",
            "Requirement already satisfied: scipy>=1.1.0 in /usr/local/lib/python3.10/dist-packages (from scikit-optimize) (1.11.4)\n",
            "Requirement already satisfied: scikit-learn>=1.0.0 in /usr/local/lib/python3.10/dist-packages (from scikit-optimize) (1.2.2)\n",
            "Requirement already satisfied: packaging>=21.3 in /usr/local/lib/python3.10/dist-packages (from scikit-optimize) (24.1)\n",
            "Requirement already satisfied: PyYAML in /usr/local/lib/python3.10/dist-packages (from pyaml>=16.9->scikit-optimize) (6.0.1)\n",
            "Requirement already satisfied: threadpoolctl>=2.0.0 in /usr/local/lib/python3.10/dist-packages (from scikit-learn>=1.0.0->scikit-optimize) (3.5.0)\n",
            "Installing collected packages: pyaml, scikit-optimize\n",
            "Successfully installed pyaml-24.4.0 scikit-optimize-0.10.2\n"
          ]
        }
      ]
    },
    {
      "cell_type": "code",
      "source": [
        "import pandas as pd\n",
        "import numpy as np\n",
        "from sklearn.model_selection import train_test_split, GridSearchCV\n",
        "from sklearn.preprocessing import StandardScaler\n",
        "from sklearn.metrics import r2_score\n",
        "from sklearn.gaussian_process import GaussianProcessRegressor\n",
        "from sklearn.gaussian_process.kernels import RBF, Matern, RationalQuadratic, ExpSineSquared, DotProduct, ConstantKernel, WhiteKernel\n",
        "from statsmodels.stats.outliers_influence import variance_inflation_factor\n",
        "from skopt import BayesSearchCV\n",
        "import joblib\n",
        "from statsmodels.tsa.stattools import adfuller, kpss\n",
        "import matplotlib.pyplot as plt\n",
        "import seaborn as sns"
      ],
      "metadata": {
        "id": "6jRl63i5PWxo"
      },
      "execution_count": null,
      "outputs": []
    },
    {
      "cell_type": "code",
      "source": [
        "import pandas as pd\n",
        "pd.set_option('display.max_columns', None)\n",
        "pd.set_option('display.max_rows', None)\n",
        "df = pd.read_excel('/content/drive/MyDrive/forecasting akhir yoy kmk.xlsx')\n",
        "df = df.iloc[24:-1]\n",
        "target = 'YOY_KMK'\n",
        "df.reset_index(drop=True, inplace=True)"
      ],
      "metadata": {
        "id": "XjP-Ycu_-Tvb"
      },
      "execution_count": null,
      "outputs": []
    },
    {
      "cell_type": "markdown",
      "source": [
        "# Feature Engineering"
      ],
      "metadata": {
        "id": "2n9tof5A-duP"
      }
    },
    {
      "cell_type": "markdown",
      "source": [
        "Prediksi t-bulan kedepan"
      ],
      "metadata": {
        "id": "dlYd6sIpPzj6"
      }
    },
    {
      "cell_type": "code",
      "source": [
        "t = 6"
      ],
      "metadata": {
        "id": "lsGdTpFLQzpq"
      },
      "execution_count": null,
      "outputs": []
    },
    {
      "cell_type": "code",
      "source": [
        "data = df.dropna()\n",
        "data['date'] = data['PERIOD'].astype(str).str[:4] +'-'+data['PERIOD'].astype(str).str[-2:]+'-01' #string format\n",
        "data['date'] = pd.to_datetime(data['date'], format='%Y-%m-%d') #parse to date format\n",
        "data = data.drop('PERIOD',axis=1)\n",
        "data.reset_index(drop=True, inplace=True)\n",
        "data.set_index('date',inplace=True)\n",
        "data.index = data.index + pd.DateOffset(months=t)"
      ],
      "metadata": {
        "id": "tb4NFUGbQlX9"
      },
      "execution_count": null,
      "outputs": []
    },
    {
      "cell_type": "markdown",
      "source": [
        "Interpolating quarterly data into monthly\n",
        "\n"
      ],
      "metadata": {
        "id": "o3S6P38CKQmA"
      }
    },
    {
      "cell_type": "code",
      "source": [
        "def interpolate_quarterly_data(data, column_names):\n",
        "    for column_name in column_names:\n",
        "        # Access the month from the datetime index using .name\n",
        "        data[column_name] = data.apply(\n",
        "            lambda x: x[column_name] if x.name.month in [1, 4, 7, 10] else None, axis=1\n",
        "        )\n",
        "        data[column_name] = data[column_name].interpolate(method='linear')\n",
        "    return data"
      ],
      "metadata": {
        "id": "4V7kke-L-n5n"
      },
      "execution_count": null,
      "outputs": []
    },
    {
      "cell_type": "code",
      "source": [
        "data = interpolate_quarterly_data(data, ['YOY_CAPEX','YOY_NFA','YOY_SALES','MEDIAN_ICR','YOY_DEBT','YOY_CA','ROA','ROE','YOY_PDB']).dropna()"
      ],
      "metadata": {
        "id": "qCYQCFOP-pSu"
      },
      "execution_count": null,
      "outputs": []
    },
    {
      "cell_type": "markdown",
      "source": [
        "Implementing lag"
      ],
      "metadata": {
        "id": "kEiA8lJJKUHt"
      }
    },
    {
      "cell_type": "code",
      "source": [
        "for lag in [1,2,3,4,5,6]:\n",
        "  data[f'{target}_lag_{lag}'] = data[target].shift(lag)"
      ],
      "metadata": {
        "id": "QnheXG7fkXSQ"
      },
      "execution_count": null,
      "outputs": []
    },
    {
      "cell_type": "markdown",
      "source": [
        "Implementing window rolling"
      ],
      "metadata": {
        "id": "9FQ8fKwzKVJH"
      }
    },
    {
      "cell_type": "code",
      "source": [
        "window = 3\n",
        "data[f'rolling_mean_{window}'] = data[target].rolling(window=window).mean()\n",
        "data[f'rolling_std_{window}'] = data[target].rolling(window=window).std()"
      ],
      "metadata": {
        "id": "fcwHY527kvN-"
      },
      "execution_count": null,
      "outputs": []
    },
    {
      "cell_type": "code",
      "source": [
        "data['expanding_mean'] = data[target].expanding(1).mean()\n",
        "data['expanding_std'] = data[target].expanding(1).std()"
      ],
      "metadata": {
        "id": "pVnogR5VlADc"
      },
      "execution_count": null,
      "outputs": []
    },
    {
      "cell_type": "markdown",
      "source": [
        "Implementing seasonal differencing"
      ],
      "metadata": {
        "id": "3WgjZ1EZKaMO"
      }
    },
    {
      "cell_type": "code",
      "source": [
        "data['diff_1'] = data[target].diff(1)\n",
        "data['diff_12'] = data[target].diff(12)"
      ],
      "metadata": {
        "id": "UF_5_BFulCCk"
      },
      "execution_count": null,
      "outputs": []
    },
    {
      "cell_type": "markdown",
      "source": [
        "Seasonal Decomposing"
      ],
      "metadata": {
        "id": "bPR9AAD5KdLE"
      }
    },
    {
      "cell_type": "code",
      "source": [
        "from statsmodels.tsa.seasonal import seasonal_decompose\n",
        "\n",
        "result = seasonal_decompose(data[target], model='additive', period=12, extrapolate_trend='freq')\n",
        "data['trend'] = result.trend\n",
        "data['seasonal'] = result.seasonal\n",
        "data['residual'] = result.resid"
      ],
      "metadata": {
        "id": "UUumi5K5tAmg"
      },
      "execution_count": null,
      "outputs": []
    },
    {
      "cell_type": "markdown",
      "source": [
        "Fourier transformation as feature"
      ],
      "metadata": {
        "id": "vDCZX_fiKgWI"
      }
    },
    {
      "cell_type": "code",
      "source": [
        "def create_fourier_features(data, freq, K):\n",
        "    t = np.arange(len(data))\n",
        "    for k in range(1, K+1):\n",
        "        data[f'sin_{freq}_{k}'] = np.sin(2 * np.pi * k * t / freq)\n",
        "        data[f'cos_{freq}_{k}'] = np.cos(2 * np.pi * k * t / freq)\n",
        "\n",
        "create_fourier_features(data, freq=12, K=3)"
      ],
      "metadata": {
        "id": "jYhx2HxClGFN"
      },
      "execution_count": null,
      "outputs": []
    },
    {
      "cell_type": "code",
      "source": [
        "data = data.dropna()"
      ],
      "metadata": {
        "id": "sf1vB9bTlZvi"
      },
      "execution_count": null,
      "outputs": []
    },
    {
      "cell_type": "markdown",
      "source": [
        "# Train Model Here"
      ],
      "metadata": {
        "id": "9ejncX5mbFu8"
      }
    },
    {
      "cell_type": "code",
      "source": [
        "features = data.columns.difference([target, 'date'])"
      ],
      "metadata": {
        "id": "D25G29U0SLDM"
      },
      "execution_count": null,
      "outputs": []
    },
    {
      "cell_type": "code",
      "source": [
        "X = data[features]\n",
        "y = data[target]\n",
        "X_forecast = X[-t:]\n",
        "X = X[:-t]\n",
        "y = y.shift(-t).dropna()"
      ],
      "metadata": {
        "id": "ytHKOpGL-tos"
      },
      "execution_count": null,
      "outputs": []
    },
    {
      "cell_type": "code",
      "source": [
        "from sklearn.feature_selection import SelectKBest, f_regression\n",
        "selector = SelectKBest(score_func=f_regression, k=10)\n",
        "X_new = selector.fit_transform(X, y)\n",
        "selected_features = X.columns[selector.get_support()]"
      ],
      "metadata": {
        "id": "ke8lMBnidWZJ"
      },
      "execution_count": null,
      "outputs": []
    },
    {
      "cell_type": "code",
      "source": [
        "selected_features"
      ],
      "metadata": {
        "colab": {
          "base_uri": "https://localhost:8080/"
        },
        "id": "CH1NqwUyjrRG",
        "outputId": "b8e92605-bf6d-40b8-8a47-2825b0a2f9cd"
      },
      "execution_count": null,
      "outputs": [
        {
          "output_type": "execute_result",
          "data": {
            "text/plain": [
              "Index(['MEDIAN_ICR', 'ROA', 'ROE', 'YOY_CA', 'YOY_KMK_lag_1', 'YOY_KMK_lag_2',\n",
              "       'YOY_PDB', 'YOY_SALES', 'rolling_mean_3', 'trend'],\n",
              "      dtype='object')"
            ]
          },
          "metadata": {},
          "execution_count": 19
        }
      ]
    },
    {
      "cell_type": "code",
      "source": [
        "X = X[selected_features]"
      ],
      "metadata": {
        "id": "_hn9lHSHd0mK"
      },
      "execution_count": null,
      "outputs": []
    },
    {
      "cell_type": "code",
      "source": [
        "from sklearn.model_selection import train_test_split\n",
        "X_train, X_test, y_train, y_test = train_test_split(X, y, test_size=0.2, shuffle=False)"
      ],
      "metadata": {
        "id": "f2fzJpfP-w0t"
      },
      "execution_count": null,
      "outputs": []
    },
    {
      "cell_type": "code",
      "source": [
        "from sklearn.preprocessing import StandardScaler\n",
        "scaler = StandardScaler()\n",
        "X_train = scaler.fit_transform(X_train)\n",
        "X_test = scaler.transform(X_test)"
      ],
      "metadata": {
        "id": "OnrezxSw-yoA"
      },
      "execution_count": null,
      "outputs": []
    },
    {
      "cell_type": "code",
      "source": [
        "!pip install lazypredict"
      ],
      "metadata": {
        "colab": {
          "base_uri": "https://localhost:8080/"
        },
        "collapsed": true,
        "id": "BSo3FfB_-2AH",
        "outputId": "62893e17-3173-44f9-d33a-1a36e01f648c"
      },
      "execution_count": null,
      "outputs": [
        {
          "output_type": "stream",
          "name": "stdout",
          "text": [
            "Collecting lazypredict\n",
            "  Downloading lazypredict-0.2.12-py2.py3-none-any.whl (12 kB)\n",
            "Requirement already satisfied: click in /usr/local/lib/python3.10/dist-packages (from lazypredict) (8.1.7)\n",
            "Requirement already satisfied: scikit-learn in /usr/local/lib/python3.10/dist-packages (from lazypredict) (1.2.2)\n",
            "Requirement already satisfied: pandas in /usr/local/lib/python3.10/dist-packages (from lazypredict) (2.0.3)\n",
            "Requirement already satisfied: tqdm in /usr/local/lib/python3.10/dist-packages (from lazypredict) (4.66.4)\n",
            "Requirement already satisfied: joblib in /usr/local/lib/python3.10/dist-packages (from lazypredict) (1.4.2)\n",
            "Requirement already satisfied: lightgbm in /usr/local/lib/python3.10/dist-packages (from lazypredict) (4.1.0)\n",
            "Requirement already satisfied: xgboost in /usr/local/lib/python3.10/dist-packages (from lazypredict) (2.0.3)\n",
            "Requirement already satisfied: numpy in /usr/local/lib/python3.10/dist-packages (from lightgbm->lazypredict) (1.25.2)\n",
            "Requirement already satisfied: scipy in /usr/local/lib/python3.10/dist-packages (from lightgbm->lazypredict) (1.11.4)\n",
            "Requirement already satisfied: python-dateutil>=2.8.2 in /usr/local/lib/python3.10/dist-packages (from pandas->lazypredict) (2.8.2)\n",
            "Requirement already satisfied: pytz>=2020.1 in /usr/local/lib/python3.10/dist-packages (from pandas->lazypredict) (2023.4)\n",
            "Requirement already satisfied: tzdata>=2022.1 in /usr/local/lib/python3.10/dist-packages (from pandas->lazypredict) (2024.1)\n",
            "Requirement already satisfied: threadpoolctl>=2.0.0 in /usr/local/lib/python3.10/dist-packages (from scikit-learn->lazypredict) (3.5.0)\n",
            "Requirement already satisfied: six>=1.5 in /usr/local/lib/python3.10/dist-packages (from python-dateutil>=2.8.2->pandas->lazypredict) (1.16.0)\n",
            "Installing collected packages: lazypredict\n",
            "Successfully installed lazypredict-0.2.12\n"
          ]
        }
      ]
    },
    {
      "cell_type": "code",
      "source": [
        "from lazypredict.Supervised import LazyRegressor\n",
        "lazy_reg = LazyRegressor(verbose=0, ignore_warnings=True, custom_metric=None)\n",
        "models, predictions = lazy_reg.fit(X_train, X_test, y_train, y_test)"
      ],
      "metadata": {
        "colab": {
          "base_uri": "https://localhost:8080/"
        },
        "collapsed": true,
        "id": "sksSqZQW-1tb",
        "outputId": "2aba3cad-c52c-40f5-83e4-8e45411a24fe"
      },
      "execution_count": null,
      "outputs": [
        {
          "output_type": "stream",
          "name": "stderr",
          "text": [
            "100%|██████████| 42/42 [00:05<00:00,  7.04it/s]"
          ]
        },
        {
          "output_type": "stream",
          "name": "stdout",
          "text": [
            "[LightGBM] [Info] Auto-choosing col-wise multi-threading, the overhead of testing was 0.000181 seconds.\n",
            "You can set `force_col_wise=true` to remove the overhead.\n",
            "[LightGBM] [Info] Total Bins 350\n",
            "[LightGBM] [Info] Number of data points in the train set: 100, number of used features: 10\n",
            "[LightGBM] [Info] Start training from score 12.847008\n",
            "[LightGBM] [Warning] No further splits with positive gain, best gain: -inf\n",
            "[LightGBM] [Warning] No further splits with positive gain, best gain: -inf\n",
            "[LightGBM] [Warning] No further splits with positive gain, best gain: -inf\n",
            "[LightGBM] [Warning] No further splits with positive gain, best gain: -inf\n",
            "[LightGBM] [Warning] No further splits with positive gain, best gain: -inf\n",
            "[LightGBM] [Warning] No further splits with positive gain, best gain: -inf\n",
            "[LightGBM] [Warning] No further splits with positive gain, best gain: -inf\n",
            "[LightGBM] [Warning] No further splits with positive gain, best gain: -inf\n",
            "[LightGBM] [Warning] No further splits with positive gain, best gain: -inf\n",
            "[LightGBM] [Warning] No further splits with positive gain, best gain: -inf\n",
            "[LightGBM] [Warning] No further splits with positive gain, best gain: -inf\n",
            "[LightGBM] [Warning] No further splits with positive gain, best gain: -inf\n",
            "[LightGBM] [Warning] No further splits with positive gain, best gain: -inf\n",
            "[LightGBM] [Warning] No further splits with positive gain, best gain: -inf\n",
            "[LightGBM] [Warning] No further splits with positive gain, best gain: -inf\n",
            "[LightGBM] [Warning] No further splits with positive gain, best gain: -inf\n",
            "[LightGBM] [Warning] No further splits with positive gain, best gain: -inf\n",
            "[LightGBM] [Warning] No further splits with positive gain, best gain: -inf\n",
            "[LightGBM] [Warning] No further splits with positive gain, best gain: -inf\n",
            "[LightGBM] [Warning] No further splits with positive gain, best gain: -inf\n",
            "[LightGBM] [Warning] No further splits with positive gain, best gain: -inf\n",
            "[LightGBM] [Warning] No further splits with positive gain, best gain: -inf\n",
            "[LightGBM] [Warning] No further splits with positive gain, best gain: -inf\n",
            "[LightGBM] [Warning] No further splits with positive gain, best gain: -inf\n",
            "[LightGBM] [Warning] No further splits with positive gain, best gain: -inf\n",
            "[LightGBM] [Warning] No further splits with positive gain, best gain: -inf\n",
            "[LightGBM] [Warning] No further splits with positive gain, best gain: -inf\n",
            "[LightGBM] [Warning] No further splits with positive gain, best gain: -inf\n",
            "[LightGBM] [Warning] No further splits with positive gain, best gain: -inf\n",
            "[LightGBM] [Warning] No further splits with positive gain, best gain: -inf\n",
            "[LightGBM] [Warning] No further splits with positive gain, best gain: -inf\n",
            "[LightGBM] [Warning] No further splits with positive gain, best gain: -inf\n",
            "[LightGBM] [Warning] No further splits with positive gain, best gain: -inf\n",
            "[LightGBM] [Warning] No further splits with positive gain, best gain: -inf\n",
            "[LightGBM] [Warning] No further splits with positive gain, best gain: -inf\n",
            "[LightGBM] [Warning] No further splits with positive gain, best gain: -inf\n",
            "[LightGBM] [Warning] No further splits with positive gain, best gain: -inf\n",
            "[LightGBM] [Warning] No further splits with positive gain, best gain: -inf\n",
            "[LightGBM] [Warning] No further splits with positive gain, best gain: -inf\n",
            "[LightGBM] [Warning] No further splits with positive gain, best gain: -inf\n",
            "[LightGBM] [Warning] No further splits with positive gain, best gain: -inf\n",
            "[LightGBM] [Warning] No further splits with positive gain, best gain: -inf\n",
            "[LightGBM] [Warning] No further splits with positive gain, best gain: -inf\n",
            "[LightGBM] [Warning] No further splits with positive gain, best gain: -inf\n",
            "[LightGBM] [Warning] No further splits with positive gain, best gain: -inf\n",
            "[LightGBM] [Warning] No further splits with positive gain, best gain: -inf\n",
            "[LightGBM] [Warning] No further splits with positive gain, best gain: -inf\n",
            "[LightGBM] [Warning] No further splits with positive gain, best gain: -inf\n",
            "[LightGBM] [Warning] No further splits with positive gain, best gain: -inf\n",
            "[LightGBM] [Warning] No further splits with positive gain, best gain: -inf\n",
            "[LightGBM] [Warning] No further splits with positive gain, best gain: -inf\n",
            "[LightGBM] [Warning] No further splits with positive gain, best gain: -inf\n",
            "[LightGBM] [Warning] No further splits with positive gain, best gain: -inf\n",
            "[LightGBM] [Warning] No further splits with positive gain, best gain: -inf\n",
            "[LightGBM] [Warning] No further splits with positive gain, best gain: -inf\n",
            "[LightGBM] [Warning] No further splits with positive gain, best gain: -inf\n",
            "[LightGBM] [Warning] No further splits with positive gain, best gain: -inf\n",
            "[LightGBM] [Warning] No further splits with positive gain, best gain: -inf\n",
            "[LightGBM] [Warning] No further splits with positive gain, best gain: -inf\n",
            "[LightGBM] [Warning] No further splits with positive gain, best gain: -inf\n",
            "[LightGBM] [Warning] No further splits with positive gain, best gain: -inf\n",
            "[LightGBM] [Warning] No further splits with positive gain, best gain: -inf\n",
            "[LightGBM] [Warning] No further splits with positive gain, best gain: -inf\n",
            "[LightGBM] [Warning] No further splits with positive gain, best gain: -inf\n",
            "[LightGBM] [Warning] No further splits with positive gain, best gain: -inf\n",
            "[LightGBM] [Warning] No further splits with positive gain, best gain: -inf\n",
            "[LightGBM] [Warning] No further splits with positive gain, best gain: -inf\n",
            "[LightGBM] [Warning] No further splits with positive gain, best gain: -inf\n",
            "[LightGBM] [Warning] No further splits with positive gain, best gain: -inf\n",
            "[LightGBM] [Warning] No further splits with positive gain, best gain: -inf\n",
            "[LightGBM] [Warning] No further splits with positive gain, best gain: -inf\n",
            "[LightGBM] [Warning] No further splits with positive gain, best gain: -inf\n",
            "[LightGBM] [Warning] No further splits with positive gain, best gain: -inf\n",
            "[LightGBM] [Warning] No further splits with positive gain, best gain: -inf\n",
            "[LightGBM] [Warning] No further splits with positive gain, best gain: -inf\n",
            "[LightGBM] [Warning] No further splits with positive gain, best gain: -inf\n",
            "[LightGBM] [Warning] No further splits with positive gain, best gain: -inf\n",
            "[LightGBM] [Warning] No further splits with positive gain, best gain: -inf\n",
            "[LightGBM] [Warning] No further splits with positive gain, best gain: -inf\n",
            "[LightGBM] [Warning] No further splits with positive gain, best gain: -inf\n",
            "[LightGBM] [Warning] No further splits with positive gain, best gain: -inf\n",
            "[LightGBM] [Warning] No further splits with positive gain, best gain: -inf\n",
            "[LightGBM] [Warning] No further splits with positive gain, best gain: -inf\n",
            "[LightGBM] [Warning] No further splits with positive gain, best gain: -inf\n",
            "[LightGBM] [Warning] No further splits with positive gain, best gain: -inf\n",
            "[LightGBM] [Warning] No further splits with positive gain, best gain: -inf\n",
            "[LightGBM] [Warning] No further splits with positive gain, best gain: -inf\n",
            "[LightGBM] [Warning] No further splits with positive gain, best gain: -inf\n",
            "[LightGBM] [Warning] No further splits with positive gain, best gain: -inf\n",
            "[LightGBM] [Warning] No further splits with positive gain, best gain: -inf\n",
            "[LightGBM] [Warning] No further splits with positive gain, best gain: -inf\n",
            "[LightGBM] [Warning] No further splits with positive gain, best gain: -inf\n",
            "[LightGBM] [Warning] No further splits with positive gain, best gain: -inf\n",
            "[LightGBM] [Warning] No further splits with positive gain, best gain: -inf\n",
            "[LightGBM] [Warning] No further splits with positive gain, best gain: -inf\n",
            "[LightGBM] [Warning] No further splits with positive gain, best gain: -inf\n",
            "[LightGBM] [Warning] No further splits with positive gain, best gain: -inf\n",
            "[LightGBM] [Warning] No further splits with positive gain, best gain: -inf\n",
            "[LightGBM] [Warning] No further splits with positive gain, best gain: -inf\n",
            "[LightGBM] [Warning] No further splits with positive gain, best gain: -inf\n"
          ]
        },
        {
          "output_type": "stream",
          "name": "stderr",
          "text": [
            "\n"
          ]
        }
      ]
    },
    {
      "cell_type": "code",
      "source": [
        "print(models)"
      ],
      "metadata": {
        "colab": {
          "base_uri": "https://localhost:8080/"
        },
        "id": "Il-2p66j_Mis",
        "outputId": "cab6d219-8d14-42c1-c413-a56a8e244c9a"
      },
      "execution_count": null,
      "outputs": [
        {
          "output_type": "stream",
          "name": "stdout",
          "text": [
            "                               Adjusted R-Squared  R-Squared  RMSE  Time Taken\n",
            "Model                                                                         \n",
            "AdaBoostRegressor                           -0.07       0.36  3.04        0.17\n",
            "SVR                                         -0.18       0.29  3.19        0.01\n",
            "NuSVR                                       -0.36       0.18  3.44        0.05\n",
            "HistGradientBoostingRegressor               -0.51       0.09  3.62        0.90\n",
            "XGBRegressor                                -0.58       0.05  3.70        1.28\n",
            "DummyRegressor                              -0.74      -0.04  3.88        0.02\n",
            "RandomForestRegressor                       -0.74      -0.05  3.89        0.47\n",
            "KNeighborsRegressor                         -0.97      -0.18  4.13        0.02\n",
            "ExtraTreesRegressor                         -1.04      -0.22  4.20        0.25\n",
            "TweedieRegressor                            -1.16      -0.30  4.33        0.34\n",
            "ElasticNet                                  -1.26      -0.36  4.42        0.02\n",
            "LGBMRegressor                               -1.68      -0.61  4.82        0.14\n",
            "BaggingRegressor                            -1.88      -0.73  4.99        0.09\n",
            "GradientBoostingRegressor                   -2.31      -0.98  5.35        0.20\n",
            "LinearSVR                                   -3.01      -1.41  5.89        0.01\n",
            "SGDRegressor                                -3.06      -1.43  5.93        0.02\n",
            "LassoLars                                   -4.50      -2.30  6.90        0.02\n",
            "Lasso                                       -4.50      -2.30  6.90        0.01\n",
            "LassoLarsCV                                 -5.21      -2.73  7.33        0.05\n",
            "LassoCV                                     -5.22      -2.73  7.33        0.20\n",
            "MLPRegressor                                -5.72      -3.03  7.63        0.53\n",
            "PassiveAggressiveRegressor                  -5.86      -3.12  7.71        0.02\n",
            "OrthogonalMatchingPursuitCV                 -6.50      -3.50  8.06        0.05\n",
            "BayesianRidge                               -6.69      -3.61  8.16        0.05\n",
            "Ridge                                       -6.76      -3.66  8.20        0.02\n",
            "ElasticNetCV                                -6.92      -3.75  8.28        0.16\n",
            "LarsCV                                      -9.14      -5.08  9.37        0.06\n",
            "ExtraTreeRegressor                          -9.47      -5.28  9.52        0.03\n",
            "RANSACRegressor                             -9.57      -5.34  9.57        0.27\n",
            "OrthogonalMatchingPursuit                  -11.74      -6.64 10.50        0.05\n",
            "RidgeCV                                    -12.22      -6.93 10.70        0.02\n",
            "DecisionTreeRegressor                      -12.95      -7.37 10.99        0.02\n",
            "KernelRidge                                -13.73      -7.84 11.29        0.03\n",
            "LinearRegression                           -13.77      -7.86 11.31        0.01\n",
            "TransformedTargetRegressor                 -13.77      -7.86 11.31        0.02\n",
            "LassoLarsIC                                -13.77      -7.86 11.31        0.03\n",
            "Lars                                       -13.77      -7.86 11.31        0.05\n",
            "GaussianProcessRegressor                   -14.14      -8.08 11.45        0.04\n",
            "HuberRegressor                             -19.13     -11.08 13.20        0.10\n"
          ]
        }
      ]
    },
    {
      "cell_type": "code",
      "source": [
        "from sklearn.ensemble import AdaBoostRegressor\n",
        "from sklearn.model_selection import GridSearchCV\n",
        "from sklearn.metrics import r2_score, mean_squared_error\n",
        "\n",
        "# Define the parameter grid for AdaBoostRegressor\n",
        "param_grid_adaboost = {\n",
        "    'n_estimators': [50, 100, 200],            # Number of estimators (trees)\n",
        "    'learning_rate': [0.01, 0.1, 1.0],         # Learning rate\n",
        "    'loss': ['linear', 'square', 'exponential']  # Loss function to use\n",
        "}\n",
        "\n",
        "# Perform Grid Search with Cross-Validation\n",
        "grid_search_adaboost = GridSearchCV(estimator=AdaBoostRegressor(), param_grid=param_grid_adaboost, cv=3, scoring='r2', verbose=1)\n",
        "grid_search_adaboost.fit(X_train, y_train)\n",
        "\n",
        "# Print the best parameters found by Grid Search\n",
        "print(\"Best parameters found by Grid Search for AdaBoostRegressor:\", grid_search_adaboost.best_params_)\n",
        "\n",
        "# Train the final model using the best parameters from Grid Search\n",
        "final_model_adaboost_grid = AdaBoostRegressor(**grid_search_adaboost.best_params_)\n",
        "final_model_adaboost_grid.fit(X_train, y_train)\n",
        "\n",
        "# Make predictions\n",
        "y_pred_adaboost_grid = final_model_adaboost_grid.predict(X_test)\n",
        "\n",
        "# Evaluate the refined model\n",
        "r2_adaboost_grid = r2_score(y_test, y_pred_adaboost_grid)\n",
        "mse_adaboost_grid = mean_squared_error(y_test, y_pred_adaboost_grid)\n",
        "print(f'R^2 Score for AdaBoostRegressor with Grid Search: {r2_adaboost_grid}')\n",
        "print(f'Mean Squared Error for AdaBoostRegressor with Grid Search: {mse_adaboost_grid}')"
      ],
      "metadata": {
        "colab": {
          "base_uri": "https://localhost:8080/"
        },
        "id": "NpMoWDwhLsFo",
        "outputId": "b713fb89-2b6e-4237-a63e-91a63186ad6c"
      },
      "execution_count": null,
      "outputs": [
        {
          "output_type": "stream",
          "name": "stdout",
          "text": [
            "Fitting 3 folds for each of 27 candidates, totalling 81 fits\n",
            "Best parameters found by Grid Search for AdaBoostRegressor: {'learning_rate': 0.01, 'loss': 'linear', 'n_estimators': 100}\n",
            "R^2 Score for AdaBoostRegressor with Grid Search: 0.1944781366111592\n",
            "Mean Squared Error for AdaBoostRegressor with Grid Search: 11.62135370596788\n"
          ]
        }
      ]
    },
    {
      "cell_type": "code",
      "source": [
        "print(f'Root Mean Squared Error for SVR with Grid Search: {np.sqrt(mse_adaboost_grid)}')"
      ],
      "metadata": {
        "colab": {
          "base_uri": "https://localhost:8080/"
        },
        "id": "ojwWcFygzT7t",
        "outputId": "6b1900da-8dd2-45dc-a73e-243e861121ec"
      },
      "execution_count": null,
      "outputs": [
        {
          "output_type": "stream",
          "name": "stdout",
          "text": [
            "Root Mean Squared Error for SVR with Grid Search: 3.409010663809646\n"
          ]
        }
      ]
    },
    {
      "cell_type": "code",
      "source": [
        "# prompt: plot Y and predicted Y using final_model_etr_grid model\n",
        "\n",
        "import matplotlib.pyplot as plt\n",
        "plt.figure(figsize=(10, 6))\n",
        "\n",
        "# Plot the actual values\n",
        "plt.plot(data.index[:-6], y.to_numpy().reshape(-1, 1), label=\"Actual\")\n",
        "# Plot the predicted values\n",
        "y_predicted = final_model_adaboost_grid.predict(scaler.transform(X))\n",
        "y_forecast = final_model_adaboost_grid.predict(scaler.transform(X_forecast[selected_features]))\n",
        "plt.plot(data.index, np.concatenate((y_predicted, y_forecast)), label=\"Predicted\")\n",
        "plt.axvline(x=data.index[len(y_train)], color='r', linestyle='--', label='Train/Test Split')\n",
        "plt.axvline(x=data.index[len(y_train) + len(y_test)-1], color='g', linestyle='--', label='Test/Forecast Split')\n",
        "# Add labels and title\n",
        "plt.xlabel(\"Time\")\n",
        "plt.ylabel(\"Target Variable\")\n",
        "plt.title(\"Actual vs Predicted Values using AdaBoost with Grid Search\")\n",
        "\n",
        "# Add legend and show the plot\n",
        "plt.legend()\n",
        "plt.show()\n"
      ],
      "metadata": {
        "colab": {
          "base_uri": "https://localhost:8080/",
          "height": 529
        },
        "id": "IxGqJwhan_-c",
        "outputId": "c43360be-a1cb-4f5d-8130-9ab9aad3b4d1"
      },
      "execution_count": null,
      "outputs": [
        {
          "output_type": "display_data",
          "data": {
            "text/plain": [
              "<Figure size 1000x600 with 1 Axes>"
            ],
            "image/png": "[encoded data removed]"
          },
          "metadata": {}
        }
      ]
    },
    {
      "cell_type": "code",
      "source": [
        "!pip install shap"
      ],
      "metadata": {
        "colab": {
          "base_uri": "https://localhost:8080/"
        },
        "id": "U80R0FbI8xtH",
        "outputId": "1dbe3f74-d6c1-43e9-a662-6095d23b2d9d"
      },
      "execution_count": null,
      "outputs": [
        {
          "output_type": "stream",
          "name": "stdout",
          "text": [
            "Collecting shap\n",
            "  Downloading shap-0.45.1-cp310-cp310-manylinux_2_12_x86_64.manylinux2010_x86_64.manylinux_2_17_x86_64.manylinux2014_x86_64.whl (540 kB)\n",
            "\u001b[?25l     \u001b[90m━━━━━━━━━━━━━━━━━━━━━━━━━━━━━━━━━━━━━━━━\u001b[0m \u001b[32m0.0/540.5 kB\u001b[0m \u001b[31m?\u001b[0m eta \u001b[36m-:--:--\u001b[0m\r\u001b[2K     \u001b[91m━━━━━━━━━━━━\u001b[0m\u001b[91m╸\u001b[0m\u001b[90m━━━━━━━━━━━━━━━━━━━━━━━━━━━\u001b[0m \u001b[32m174.1/540.5 kB\u001b[0m \u001b[31m5.0 MB/s\u001b[0m eta \u001b[36m0:00:01\u001b[0m\r\u001b[2K     \u001b[90m━━━━━━━━━━━━━━━━━━━━━━━━━━━━━━━━━━━━━━━━\u001b[0m \u001b[32m540.5/540.5 kB\u001b[0m \u001b[31m8.7 MB/s\u001b[0m eta \u001b[36m0:00:00\u001b[0m\n",
            "\u001b[?25hRequirement already satisfied: numpy in /usr/local/lib/python3.10/dist-packages (from shap) (1.25.2)\n",
            "Requirement already satisfied: scipy in /usr/local/lib/python3.10/dist-packages (from shap) (1.11.4)\n",
            "Requirement already satisfied: scikit-learn in /usr/local/lib/python3.10/dist-packages (from shap) (1.2.2)\n",
            "Requirement already satisfied: pandas in /usr/local/lib/python3.10/dist-packages (from shap) (2.0.3)\n",
            "Requirement already satisfied: tqdm>=4.27.0 in /usr/local/lib/python3.10/dist-packages (from shap) (4.66.4)\n",
            "Requirement already satisfied: packaging>20.9 in /usr/local/lib/python3.10/dist-packages (from shap) (24.1)\n",
            "Collecting slicer==0.0.8 (from shap)\n",
            "  Downloading slicer-0.0.8-py3-none-any.whl (15 kB)\n",
            "Requirement already satisfied: numba in /usr/local/lib/python3.10/dist-packages (from shap) (0.58.1)\n",
            "Requirement already satisfied: cloudpickle in /usr/local/lib/python3.10/dist-packages (from shap) (2.2.1)\n",
            "Requirement already satisfied: llvmlite<0.42,>=0.41.0dev0 in /usr/local/lib/python3.10/dist-packages (from numba->shap) (0.41.1)\n",
            "Requirement already satisfied: python-dateutil>=2.8.2 in /usr/local/lib/python3.10/dist-packages (from pandas->shap) (2.8.2)\n",
            "Requirement already satisfied: pytz>=2020.1 in /usr/local/lib/python3.10/dist-packages (from pandas->shap) (2023.4)\n",
            "Requirement already satisfied: tzdata>=2022.1 in /usr/local/lib/python3.10/dist-packages (from pandas->shap) (2024.1)\n",
            "Requirement already satisfied: joblib>=1.1.1 in /usr/local/lib/python3.10/dist-packages (from scikit-learn->shap) (1.4.2)\n",
            "Requirement already satisfied: threadpoolctl>=2.0.0 in /usr/local/lib/python3.10/dist-packages (from scikit-learn->shap) (3.5.0)\n",
            "Requirement already satisfied: six>=1.5 in /usr/local/lib/python3.10/dist-packages (from python-dateutil>=2.8.2->pandas->shap) (1.16.0)\n",
            "Installing collected packages: slicer, shap\n",
            "Successfully installed shap-0.45.1 slicer-0.0.8\n"
          ]
        }
      ]
    },
    {
      "cell_type": "code",
      "source": [
        "import shap\n",
        "\n",
        "# Create a Shap explainer\n",
        "explainer = shap.KernelExplainer(final_model_adaboost_grid.predict, scaler.transform(X_train))\n",
        "\n",
        "# Calculate Shap values for X_test\n",
        "shap_values = explainer.shap_values(scaler.transform(X_test))\n",
        "\n",
        "# Plot the Shap feature importance\n",
        "shap.summary_plot(shap_values, X_test, plot_type=\"bar\", feature_names=X.columns)\n"
      ],
      "metadata": {
        "colab": {
          "base_uri": "https://localhost:8080/",
          "height": 589,
          "referenced_widgets": [
            "0fa4a944a26648b0a915a683dcd54c79",
            "af33eb88494749f5b0ad4f48f570a54a",
            "5a43c22019674b5395aaa61dcb140cfd",
            "1112b04c248c496fb3011a659ee90716",
            "5698acf046e3463781a9d63686a03f31",
            "3f4a2b11b3d7433191f71bf8a23a7d63",
            "2d3cd7aac45f42ab8c6537766ba4d3d7",
            "a7159ca9f0e449edb41097e3c1cb5702",
            "95154453bfa041f0ac699c93966a36b3",
            "33d6d043f46540b9b8eff468f0bd405d",
            "bd7d3aa34b0445ac848eb936f7cccaad"
          ]
        },
        "id": "ugrAESdG8rom",
        "outputId": "20b099e2-f5b6-45a1-ecfd-74d6c87d3c60"
      },
      "execution_count": null,
      "outputs": [
        {
          "output_type": "display_data",
          "data": {
            "text/plain": [
              "  0%|          | 0/26 [00:00<?, ?it/s]"
            ],
            "application/vnd.jupyter.widget-view+json": {
              "version_major": 2,
              "version_minor": 0,
              "model_id": "0fa4a944a26648b0a915a683dcd54c79"
            }
          },
          "metadata": {}
        },
        {
          "output_type": "display_data",
          "data": {
            "text/plain": [
              "<Figure size 800x550 with 1 Axes>"
            ],
            "image/png": "[encoded data removed]"
          },
          "metadata": {}
        }
      ]
    }
  ]
}